{
 "cells": [
  {
   "cell_type": "code",
   "execution_count": 2,
   "metadata": {},
   "outputs": [],
   "source": [
    "import requests"
   ]
  },
  {
   "cell_type": "code",
   "execution_count": 3,
   "metadata": {},
   "outputs": [],
   "source": [
    "# Assigning the value to the Variable\n",
    "base_url = 'https://nominatim.openstreetmap.org/search?'"
   ]
  },
  {
   "cell_type": "code",
   "execution_count": 4,
   "metadata": {},
   "outputs": [],
   "source": [
    "# Creating a Parameter Dictionary\n",
    "params = {\n",
    "       'format':'json',\n",
    "       'q': 'Eiffel tower'\n",
    "   }"
   ]
  },
  {
   "cell_type": "code",
   "execution_count": 5,
   "metadata": {},
   "outputs": [],
   "source": [
    "result = requests.get(base_url,params=params)"
   ]
  },
  {
   "cell_type": "code",
   "execution_count": 6,
   "metadata": {},
   "outputs": [
    {
     "data": {
      "text/plain": [
       "200"
      ]
     },
     "execution_count": 6,
     "metadata": {},
     "output_type": "execute_result"
    }
   ],
   "source": [
    "result.status_code"
   ]
  },
  {
   "cell_type": "code",
   "execution_count": 7,
   "metadata": {},
   "outputs": [
    {
     "data": {
      "text/plain": [
       "[{'place_id': 257507700,\n",
       "  'licence': 'Data © OpenStreetMap contributors, ODbL 1.0. https://osm.org/copyright',\n",
       "  'osm_type': 'way',\n",
       "  'osm_id': 5013364,\n",
       "  'boundingbox': ['48.8574753', '48.8590465', '2.2933084', '2.2956897'],\n",
       "  'lat': '48.8582602',\n",
       "  'lon': '2.29449905431968',\n",
       "  'display_name': 'Tour Eiffel, 5, Avenue Anatole France, Gros-Caillou, 7e, Paris, Île-de-France, France métropolitaine, 75007, France',\n",
       "  'class': 'tourism',\n",
       "  'type': 'attraction',\n",
       "  'importance': 0.653772102971417,\n",
       "  'icon': 'https://nominatim.openstreetmap.org/images/mapicons/poi_point_of_interest.p.20.png'},\n",
       " {'place_id': 28224069,\n",
       "  'licence': 'Data © OpenStreetMap contributors, ODbL 1.0. https://osm.org/copyright',\n",
       "  'osm_type': 'node',\n",
       "  'osm_id': 2689315641,\n",
       "  'boundingbox': ['51.33355', '51.33365', '-116.23505', '-116.23495'],\n",
       "  'lat': '51.3336',\n",
       "  'lon': '-116.235',\n",
       "  'display_name': 'Eiffel Tower, Alberta, Canada',\n",
       "  'class': 'natural',\n",
       "  'type': 'peak',\n",
       "  'importance': 0.5,\n",
       "  'icon': 'https://nominatim.openstreetmap.org/images/mapicons/poi_peak.p.20.png'},\n",
       " {'place_id': 24916991,\n",
       "  'licence': 'Data © OpenStreetMap contributors, ODbL 1.0. https://osm.org/copyright',\n",
       "  'osm_type': 'node',\n",
       "  'osm_id': 2407752390,\n",
       "  'boundingbox': ['43.2843794', '43.2844794', '28.0439805', '28.0440805'],\n",
       "  'lat': '43.2844294',\n",
       "  'lon': '28.0440305',\n",
       "  'display_name': 'Eiffel Tower, 9, Златни пясъци, Варна, 9007, България',\n",
       "  'class': 'tourism',\n",
       "  'type': 'attraction',\n",
       "  'importance': 0.201,\n",
       "  'icon': 'https://nominatim.openstreetmap.org/images/mapicons/poi_point_of_interest.p.20.png'},\n",
       " {'place_id': 50197464,\n",
       "  'licence': 'Data © OpenStreetMap contributors, ODbL 1.0. https://osm.org/copyright',\n",
       "  'osm_type': 'node',\n",
       "  'osm_id': 3880146677,\n",
       "  'boundingbox': ['33.6398152', '33.6399152', '-95.5239198', '-95.5238198'],\n",
       "  'lat': '33.6398652',\n",
       "  'lon': '-95.5238698',\n",
       "  'display_name': 'Eiffel Tower, Jefferson Road, Paris, Lamar County, Texas, 75460, USA',\n",
       "  'class': 'man_made',\n",
       "  'type': 'tower',\n",
       "  'importance': 0.201},\n",
       " {'place_id': 249823406,\n",
       "  'licence': 'Data © OpenStreetMap contributors, ODbL 1.0. https://osm.org/copyright',\n",
       "  'osm_type': 'way',\n",
       "  'osm_id': 661318737,\n",
       "  'boundingbox': ['39.3430824', '39.3435738', '-84.2672867', '-84.2666744'],\n",
       "  'lat': '39.3433267',\n",
       "  'lon': '-84.2669819049977',\n",
       "  'display_name': 'Eiffel Tower, Viking Fury, Mason, Warren County, Ohio, 45034, USA',\n",
       "  'class': 'man_made',\n",
       "  'type': 'tower',\n",
       "  'importance': 0.201},\n",
       " {'place_id': 138721394,\n",
       "  'licence': 'Data © OpenStreetMap contributors, ODbL 1.0. https://osm.org/copyright',\n",
       "  'osm_type': 'way',\n",
       "  'osm_id': 265139056,\n",
       "  'boundingbox': ['37.8398424', '37.840046', '-77.4454201', '-77.4451486'],\n",
       "  'lat': '37.83994365',\n",
       "  'lon': '-77.4452836958129',\n",
       "  'display_name': 'Eiffel Tower, Theme Park Way, Garnett Crossing, Hanover County, Virginia, 23047, USA',\n",
       "  'class': 'tourism',\n",
       "  'type': 'attraction',\n",
       "  'importance': 0.201,\n",
       "  'icon': 'https://nominatim.openstreetmap.org/images/mapicons/poi_point_of_interest.p.20.png'},\n",
       " {'place_id': 43902353,\n",
       "  'licence': 'Data © OpenStreetMap contributors, ODbL 1.0. https://osm.org/copyright',\n",
       "  'osm_type': 'node',\n",
       "  'osm_id': 3184358208,\n",
       "  'boundingbox': ['39.8091898', '39.8092898', '116.280389', '116.280489'],\n",
       "  'lat': '39.8092398',\n",
       "  'lon': '116.280439',\n",
       "  'display_name': 'Eiffel Tower, 郭公庄南街, 郭公庄村, 丰台区, 北京市, 100070, 中国',\n",
       "  'class': 'tourism',\n",
       "  'type': 'attraction',\n",
       "  'importance': 0.201,\n",
       "  'icon': 'https://nominatim.openstreetmap.org/images/mapicons/poi_point_of_interest.p.20.png'},\n",
       " {'place_id': 68958977,\n",
       "  'licence': 'Data © OpenStreetMap contributors, ODbL 1.0. https://osm.org/copyright',\n",
       "  'osm_type': 'node',\n",
       "  'osm_id': 5818441944,\n",
       "  'boundingbox': ['36.2869263', '36.2870263', '-88.301576', '-88.301476'],\n",
       "  'lat': '36.2869763',\n",
       "  'lon': '-88.301526',\n",
       "  'display_name': 'Eiffel Tower, Maurice Fields Drive, Paris, Henry County, Tennessee, 38242, USA',\n",
       "  'class': 'tourism',\n",
       "  'type': 'attraction',\n",
       "  'importance': 0.201,\n",
       "  'icon': 'https://nominatim.openstreetmap.org/images/mapicons/poi_point_of_interest.p.20.png'},\n",
       " {'place_id': 55052193,\n",
       "  'licence': 'Data © OpenStreetMap contributors, ODbL 1.0. https://osm.org/copyright',\n",
       "  'osm_type': 'node',\n",
       "  'osm_id': 4427371617,\n",
       "  'boundingbox': ['31.3555691', '31.3556691', '74.1849477', '74.1850477'],\n",
       "  'lat': '31.3556191',\n",
       "  'lon': '74.1849977',\n",
       "  'display_name': 'Eiffel Tower, Jinnah Avenue, PAEC Foundation Housing, بحریہ ٹاؤن\\u202c\\u200e, Lahore District, پنجاب, پاکستان',\n",
       "  'class': 'historic',\n",
       "  'type': 'monument',\n",
       "  'importance': 0.201,\n",
       "  'icon': 'https://nominatim.openstreetmap.org/images/mapicons/tourist_monument.p.20.png'},\n",
       " {'place_id': 66418183,\n",
       "  'licence': 'Data © OpenStreetMap contributors, ODbL 1.0. https://osm.org/copyright',\n",
       "  'osm_type': 'node',\n",
       "  'osm_id': 5589969421,\n",
       "  'boundingbox': ['48.8584738', '48.8585738', '2.2939489', '2.2940489'],\n",
       "  'lat': '48.8585238',\n",
       "  'lon': '2.2939989',\n",
       "  'display_name': 'Tour Eiffel, Quai Branly, Gros-Caillou, 7e, Paris, Île-de-France, France métropolitaine, 75007, France',\n",
       "  'class': 'tourism',\n",
       "  'type': 'information',\n",
       "  'importance': 0.101,\n",
       "  'icon': 'https://nominatim.openstreetmap.org/images/mapicons/amenity_information.p.20.png'}]"
      ]
     },
     "execution_count": 7,
     "metadata": {},
     "output_type": "execute_result"
    }
   ],
   "source": [
    "# Since the Status Code is 200 It represents Sucessful. So get the data into a JSON format\n",
    "result.json()"
   ]
  },
  {
   "cell_type": "code",
   "execution_count": 8,
   "metadata": {},
   "outputs": [],
   "source": [
    "params = {\n",
    "    'format' : \"json\",\n",
    "    'q' : \"Cair Paravel, Narnia\",\n",
    "    'limit' : 1\n",
    "}"
   ]
  },
  {
   "cell_type": "code",
   "execution_count": 9,
   "metadata": {},
   "outputs": [
    {
     "data": {
      "text/plain": [
       "[]"
      ]
     },
     "execution_count": 9,
     "metadata": {},
     "output_type": "execute_result"
    }
   ],
   "source": [
    "requests.get(base_url,  params=params).json()"
   ]
  },
  {
   "cell_type": "code",
   "execution_count": 10,
   "metadata": {},
   "outputs": [],
   "source": [
    "from time import sleep\n",
    "\n",
    "def nomination_geocode(address, format='json', limit=1, **kwargs):\n",
    "    params = {\n",
    "        'q' : address,\n",
    "        'format' : format,\n",
    "        'limit' : limit,\n",
    "        **kwargs\n",
    "    }\n",
    "    \n",
    "    response = requests.get(base_url, params=params)\n",
    "    response.raise_for_status() # It will raise exception if Request is unsuccesful.\n",
    "    sleep(1)\n",
    "    \n",
    "    return response.json()"
   ]
  },
  {
   "cell_type": "code",
   "execution_count": 11,
   "metadata": {},
   "outputs": [
    {
     "data": {
      "text/plain": [
       "[{'place_id': 257507700,\n",
       "  'licence': 'Data © OpenStreetMap contributors, ODbL 1.0. https://osm.org/copyright',\n",
       "  'osm_type': 'way',\n",
       "  'osm_id': 5013364,\n",
       "  'boundingbox': ['48.8574753', '48.8590465', '2.2933084', '2.2956897'],\n",
       "  'lat': '48.8582602',\n",
       "  'lon': '2.29449905431968',\n",
       "  'display_name': 'Tour Eiffel, 5, Avenue Anatole France, Gros-Caillou, 7e, Paris, Île-de-France, France métropolitaine, 75007, France',\n",
       "  'class': 'tourism',\n",
       "  'type': 'attraction',\n",
       "  'importance': 0.653772102971417,\n",
       "  'icon': 'https://nominatim.openstreetmap.org/images/mapicons/poi_point_of_interest.p.20.png'}]"
      ]
     },
     "execution_count": 11,
     "metadata": {},
     "output_type": "execute_result"
    }
   ],
   "source": [
    "# Calling the Created Function\n",
    "nomination_geocode('Eiffel tower')"
   ]
  },
  {
   "cell_type": "code",
   "execution_count": 12,
   "metadata": {},
   "outputs": [
    {
     "data": {
      "text/plain": [
       "[{'place_id': 260072193,\n",
       "  'licence': 'Data © OpenStreetMap contributors, ODbL 1.0. https://osm.org/copyright',\n",
       "  'osm_type': 'way',\n",
       "  'osm_id': 176312585,\n",
       "  'boundingbox': ['51.5237026', '51.5237936', '-0.158698', '-0.1584418'],\n",
       "  'lat': '51.52374805',\n",
       "  'lon': '-0.158569881653613',\n",
       "  'display_name': '221B, Baker Street, Marylebone, City of Westminster, London, Greater London, England, NW1 6XE, UK',\n",
       "  'class': 'building',\n",
       "  'type': 'terrace',\n",
       "  'importance': 0.5209999999999999}]"
      ]
     },
     "execution_count": 12,
     "metadata": {},
     "output_type": "execute_result"
    }
   ],
   "source": [
    "# Again Calling Function with different Input Parameters\n",
    "nomination_geocode(address=None, street='221B Baker Street', city=\"London\", country=\"Great Britain\")"
   ]
  },
  {
   "cell_type": "markdown",
   "metadata": {},
   "source": [
    "#### Reading and Writing Data To the CSV Files"
   ]
  },
  {
   "cell_type": "code",
   "execution_count": 13,
   "metadata": {},
   "outputs": [],
   "source": [
    "from csv import DictReader, DictWriter\n",
    "path = './cities.csv'\n",
    "\n",
    "with open(path, 'r') as f:\n",
    "    data = list(DictReader(f))"
   ]
  },
  {
   "cell_type": "code",
   "execution_count": 14,
   "metadata": {},
   "outputs": [],
   "source": [
    "def read_csv(path):\n",
    "    \n",
    "    with open(path, 'r') as f:\n",
    "        return list(DictReader(f))"
   ]
  },
  {
   "cell_type": "code",
   "execution_count": 15,
   "metadata": {},
   "outputs": [],
   "source": [
    "def write_csv(data, path, mode='w'):\n",
    "    '''write data to csv or append to existing one'''\n",
    "    if mode not in 'wa':\n",
    "        raise ValueError(\"mode should be either 'w' or 'a'\")\n",
    "    with open(path, mode) as f:\n",
    "        writer = DictWriter(f, fieldnames=data[0].keys())\n",
    "        if mode == 'w':\n",
    "            writer.writeheader()\n",
    "        for row in data:\n",
    "            writer.writerow(row)"
   ]
  },
  {
   "cell_type": "code",
   "execution_count": 16,
   "metadata": {},
   "outputs": [],
   "source": [
    "cities = read_csv('./cities.csv')"
   ]
  },
  {
   "cell_type": "code",
   "execution_count": 17,
   "metadata": {},
   "outputs": [
    {
     "data": {
      "text/plain": [
       "OrderedDict([('name', 'Tokio'), ('population', '38.05'), ('country', 'Japan')])"
      ]
     },
     "execution_count": 17,
     "metadata": {},
     "output_type": "execute_result"
    }
   ],
   "source": [
    "cities[0]"
   ]
  },
  {
   "cell_type": "code",
   "execution_count": 18,
   "metadata": {},
   "outputs": [],
   "source": [
    "write_csv(cities, './my_cities.csv')"
   ]
  },
  {
   "cell_type": "markdown",
   "metadata": {},
   "source": [
    "####  GeoCoding Addresses in batches"
   ]
  },
  {
   "cell_type": "code",
   "execution_count": 19,
   "metadata": {},
   "outputs": [],
   "source": [
    "from tqdm import tqdm\n",
    "\n",
    "def geocode_bulk(data, column='address', verbose=False):\n",
    "    result, errors = [], []\n",
    "    \n",
    "    for row in tqdm(data):\n",
    "        try:\n",
    "            search = nomination_geocode(row[column], limit=1)\n",
    "            if(len(search) == 0):\n",
    "                result.append(row)\n",
    "                if verbose:\n",
    "                    print(f\"Can't find anything for {row[column]}\")\n",
    "            else:\n",
    "                info = search[0]\n",
    "                info.update(row)\n",
    "                result.append(info)\n",
    "        except Exception as e:\n",
    "            if verbose:\n",
    "                print(e)\n",
    "            row['error'] = e\n",
    "            errors.append(row)\n",
    "    \n",
    "    if len(errors) > 0 and verbose:\n",
    "        print(f\"{len(errors)/len(data)} rows failed\")\n",
    "    \n",
    "    return result, errors"
   ]
  },
  {
   "cell_type": "code",
   "execution_count": 20,
   "metadata": {},
   "outputs": [
    {
     "name": "stderr",
     "output_type": "stream",
     "text": [
      "100%|██████████| 10/10 [00:22<00:00,  2.26s/it]\n"
     ]
    }
   ],
   "source": [
    "result, errors = geocode_bulk(cities, column='name', verbose=True)"
   ]
  },
  {
   "cell_type": "markdown",
   "metadata": {},
   "source": [
    "#### Moving Code to separate Module(Creating the Module)"
   ]
  },
  {
   "cell_type": "code",
   "execution_count": 21,
   "metadata": {},
   "outputs": [
    {
     "data": {
      "text/plain": [
       "\"\\npath_in = './cities.csv'\\npath_out = './geocoded.csv'\\ndata = read_csv(path_in)\\nresult, errors = geocode_bulk(data, column='address', verbose=True)\\nwrite_csv(result, path_out)\\n\\n\""
      ]
     },
     "execution_count": 21,
     "metadata": {},
     "output_type": "execute_result"
    }
   ],
   "source": [
    "'''\n",
    "path_in = './cities.csv'\n",
    "path_out = './geocoded.csv'\n",
    "data = read_csv(path_in)\n",
    "result, errors = geocode_bulk(data, column='address', verbose=True)\n",
    "write_csv(result, path_out)\n",
    "\n",
    "'''\n",
    "# The Above code doesn't required actually.\n"
   ]
  },
  {
   "cell_type": "code",
   "execution_count": null,
   "metadata": {},
   "outputs": [],
   "source": []
  }
 ],
 "metadata": {
  "kernelspec": {
   "display_name": "Python 3",
   "language": "python",
   "name": "python3"
  },
  "language_info": {
   "codemirror_mode": {
    "name": "ipython",
    "version": 3
   },
   "file_extension": ".py",
   "mimetype": "text/x-python",
   "name": "python",
   "nbconvert_exporter": "python",
   "pygments_lexer": "ipython3",
   "version": "3.7.3"
  }
 },
 "nbformat": 4,
 "nbformat_minor": 2
}
