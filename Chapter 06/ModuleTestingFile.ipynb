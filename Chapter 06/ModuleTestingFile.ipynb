{
 "cells": [
  {
   "cell_type": "code",
   "execution_count": 1,
   "metadata": {},
   "outputs": [],
   "source": [
    "from geocode import nominatim_geocode, geocode_bulk"
   ]
  },
  {
   "cell_type": "code",
   "execution_count": 2,
   "metadata": {},
   "outputs": [
    {
     "data": {
      "text/plain": [
       "[{'place_id': 57162022,\n",
       "  'licence': 'Data © OpenStreetMap contributors, ODbL 1.0. https://osm.org/copyright',\n",
       "  'osm_type': 'node',\n",
       "  'osm_id': 4638514183,\n",
       "  'boundingbox': ['40.7142727', '40.7143727', '-112.1046006', '-112.1045006'],\n",
       "  'lat': '40.7143227',\n",
       "  'lon': '-112.1045506',\n",
       "  'display_name': 'Monument, Disera Boulevard, Magna, Salt Lake County, Utah, 84044, USA',\n",
       "  'class': 'historic',\n",
       "  'type': 'monument',\n",
       "  'importance': 0.33100000000000007,\n",
       "  'icon': 'https://nominatim.openstreetmap.org/images/mapicons/tourist_monument.p.20.png'}]"
      ]
     },
     "execution_count": 2,
     "metadata": {},
     "output_type": "execute_result"
    }
   ],
   "source": [
    "nominatim_geocode('Monument Valley, Utah, USA')"
   ]
  },
  {
   "cell_type": "code",
   "execution_count": null,
   "metadata": {},
   "outputs": [],
   "source": []
  }
 ],
 "metadata": {
  "kernelspec": {
   "display_name": "Python 3",
   "language": "python",
   "name": "python3"
  },
  "language_info": {
   "codemirror_mode": {
    "name": "ipython",
    "version": 3
   },
   "file_extension": ".py",
   "mimetype": "text/x-python",
   "name": "python",
   "nbconvert_exporter": "python",
   "pygments_lexer": "ipython3",
   "version": "3.7.3"
  }
 },
 "nbformat": 4,
 "nbformat_minor": 2
}
