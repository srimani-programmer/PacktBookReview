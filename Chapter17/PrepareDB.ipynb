{
 "cells": [
  {
   "cell_type": "code",
   "execution_count": 1,
   "metadata": {},
   "outputs": [],
   "source": [
    "import sqlite3\n",
    "import pandas as pd\n",
    "from pathlib import Path\n",
    "from tqdm import tqdm"
   ]
  },
  {
   "cell_type": "code",
   "execution_count": 2,
   "metadata": {},
   "outputs": [],
   "source": [
    "filepaths = Path('../Chapter15/data/311/2019').glob('**/*.csv')"
   ]
  },
  {
   "cell_type": "code",
   "execution_count": 3,
   "metadata": {},
   "outputs": [],
   "source": [
    "cols = data = [\n",
    "    \"address_type\",\n",
    "    \"agency\",\n",
    "    \"agency_name\",\n",
    "    \"bbl\",\n",
    "    \"borough\",\n",
    "    \"bridge_highway_direction\",\n",
    "    \"bridge_highway_name\",\n",
    "    \"bridge_highway_segment\",\n",
    "    \"city\",\n",
    "    \"closed_date\",\n",
    "    \"community_board\",\n",
    "    \"complaint_type\",\n",
    "    \"created_date\",\n",
    "    \"cross_street_1\",\n",
    "    \"cross_street_2\",\n",
    "    \"descriptor\",\n",
    "    \"due_date\",\n",
    "    \"facility_type\",\n",
    "    \"incident_address\",\n",
    "    \"incident_zip\",\n",
    "    \"intersection_street_1\",\n",
    "    \"intersection_street_2\",\n",
    "    \"landmark\",\n",
    "    \"latitude\",\n",
    "    \"location\",\n",
    "    \"location_type\",\n",
    "    \"longitude\",\n",
    "    \"open_data_channel_type\",\n",
    "    \"park_borough\",\n",
    "    \"park_facility_name\",\n",
    "    \"resolution_action_updated_date\",\n",
    "    \"resolution_description\",\n",
    "    \"road_ramp\",\n",
    "    \"status\",\n",
    "    \"street_name\",\n",
    "    \"taxi_company_borough\",\n",
    "    \"taxi_pick_up_location\",\n",
    "    \"unique_key\",\n",
    "    \"vehicle_type\",\n",
    "    \"x_coordinate_state_plane\",\n",
    "    \"y_coordinate_state_plane\"\n",
    "]"
   ]
  },
  {
   "cell_type": "code",
   "execution_count": 4,
   "metadata": {},
   "outputs": [
    {
     "name": "stderr",
     "output_type": "stream",
     "text": [
      "0it [00:00, ?it/s]/Users/philippk/anaconda3/envs/packt/lib/python3.7/site-packages/pandas/core/indexing.py:1494: FutureWarning: \n",
      "Passing list-likes to .loc or [] with any missing label will raise\n",
      "KeyError in the future, you can use .reindex() as an alternative.\n",
      "\n",
      "See the documentation here:\n",
      "https://pandas.pydata.org/pandas-docs/stable/indexing.html#deprecate-loc-reindex-listlike\n",
      "  return self._getitem_tuple(key)\n",
      "167it [01:24,  1.33it/s]\n"
     ]
    }
   ],
   "source": [
    "\n",
    "conn = sqlite3.connect('./data/311.db')\n",
    "\n",
    "for f in tqdm(filepaths):\n",
    "    df = pd.read_csv(f, index_col=0)\n",
    "    if df is None or len(df) == 0:\n",
    "        continue\n",
    "    df.loc[:, cols].to_sql('complaints', conn, if_exists='append')\n",
    "    "
   ]
  },
  {
   "cell_type": "code",
   "execution_count": null,
   "metadata": {},
   "outputs": [],
   "source": []
  }
 ],
 "metadata": {
  "kernelspec": {
   "display_name": "Python 3",
   "language": "python",
   "name": "python3"
  },
  "language_info": {
   "codemirror_mode": {
    "name": "ipython",
    "version": 3
   },
   "file_extension": ".py",
   "mimetype": "text/x-python",
   "name": "python",
   "nbconvert_exporter": "python",
   "pygments_lexer": "ipython3",
   "version": "3.7.3"
  }
 },
 "nbformat": 4,
 "nbformat_minor": 2
}
