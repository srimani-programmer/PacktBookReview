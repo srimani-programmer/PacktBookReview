{
 "cells": [
  {
   "cell_type": "code",
   "execution_count": 1,
   "metadata": {},
   "outputs": [],
   "source": [
    "import requests as rq\n",
    "from bs4 import BeautifulSoup"
   ]
  },
  {
   "cell_type": "markdown",
   "metadata": {},
   "source": [
    "# Test on one link"
   ]
  },
  {
   "cell_type": "code",
   "execution_count": 9,
   "metadata": {},
   "outputs": [
    {
     "data": {
      "text/plain": [
       "'https://en.wikipedia.org//wiki/Operation_Skorpion'"
      ]
     },
     "execution_count": 9,
     "metadata": {},
     "output_type": "execute_result"
    }
   ],
   "source": [
    "url = 'https://en.wikipedia.org//wiki/Operation_Skorpion'\n",
    "# url = 'https://en.wikipedia.org//wiki/Siege_of_Giarabub'\n",
    "# url = 'https://en.wikipedia.org/wiki/Siege_of_Giarabub'\n",
    "# url = 'https://en.wikipedia.org/wiki/Battle_of_Dakar'\n",
    "# url = 'https://en.wikipedia.org/wiki/Vilnius_Offensive'\n",
    "url"
   ]
  },
  {
   "cell_type": "code",
   "execution_count": 10,
   "metadata": {},
   "outputs": [],
   "source": [
    "def get_dom(url):\n",
    "    response = rq.get(url)\n",
    "    response.raise_for_status()\n",
    "    return BeautifulSoup(response.content, 'html.parser')"
   ]
  },
  {
   "cell_type": "code",
   "execution_count": 11,
   "metadata": {},
   "outputs": [],
   "source": [
    "info = get_dom(url)"
   ]
  },
  {
   "cell_type": "markdown",
   "metadata": {},
   "source": [
    "## Processing one link\n",
    "\n",
    "- actors\n",
    "- date\n",
    "- geolocation\n",
    "- who wins\n",
    "- casualities\n",
    "- map?"
   ]
  },
  {
   "cell_type": "code",
   "execution_count": 12,
   "metadata": {},
   "outputs": [],
   "source": [
    "table = info.find('table','infobox vevent')"
   ]
  },
  {
   "cell_type": "code",
   "execution_count": null,
   "metadata": {},
   "outputs": [],
   "source": []
  },
  {
   "cell_type": "code",
   "execution_count": 13,
   "metadata": {},
   "outputs": [],
   "source": [
    "def _table_to_dict(table):\n",
    "    result = {}\n",
    "    for row in table.find_all('tr'):\n",
    "        key = next(row.th.stripped_strings)\n",
    "        value = row.td.get_text().strip()\n",
    "        \n",
    "        result[key] = value\n",
    "        \n",
    "    return result"
   ]
  },
  {
   "cell_type": "code",
   "execution_count": 14,
   "metadata": {},
   "outputs": [],
   "source": [
    "def _get_main_info(table):\n",
    "    main = [el for el in table.tbody.find_all('tr', recursive=False) if 'Location' in el.get_text()][0]\n",
    "    return  {'main': _table_to_dict(main) }\n"
   ]
  },
  {
   "cell_type": "code",
   "execution_count": 15,
   "metadata": {},
   "outputs": [
    {
     "data": {
      "text/plain": [
       "{'main': {'Date': '26–27 May 1941',\n",
       "  'Location': 'Halfaya Pass, Egypt31°30′N 25°11′E\\ufeff / \\ufeff31.500°N 25.183°E\\ufeff / 31.500; 25.183Coordinates: 31°30′N 25°11′E\\ufeff / \\ufeff31.500°N 25.183°E\\ufeff / 31.500; 25.183',\n",
       "  'Result': 'Axis victory',\n",
       "  'Territorial': 'Axis re-captured Halfaya Pass'}}"
      ]
     },
     "execution_count": 15,
     "metadata": {},
     "output_type": "execute_result"
    }
   ],
   "source": [
    "_get_main_info(table)"
   ]
  },
  {
   "cell_type": "markdown",
   "metadata": {},
   "source": [
    "# Additional"
   ]
  },
  {
   "cell_type": "code",
   "execution_count": 319,
   "metadata": {},
   "outputs": [],
   "source": [
    "def _parse_row(row):\n",
    "    '''parse secondory info row\n",
    "    as dict of info points - for allies and axis\n",
    "    '''\n",
    "    cells = row.find_all('td', recursive=False)\n",
    "    return [cell.get_text().strip() for cell in cells]\n",
    "\n",
    "\n",
    "\n",
    "    \n",
    "def _find_row_by_header(table, string):\n",
    "    header = table.tbody.find('tr', text=string)\n",
    "    if header is not None:\n",
    "        return header.next_sibling\n",
    "    \n",
    "\n",
    "def _additional(table):\n",
    "    \n",
    "    keywords = (\n",
    "        'Belligerents',\n",
    "        'Commanders and leaders',\n",
    "        'Strength',\n",
    "        'Casualties and losses',\n",
    "    )\n",
    "    \n",
    "    result = {}\n",
    "    for keyword in keywords:\n",
    "        try:\n",
    "            data = _find_row_by_header(table, keyword)\n",
    "            if data:\n",
    "                result[keyword] = _parse_row(data)\n",
    "        except Exception as e:\n",
    "            raise Exception(keyword, e)\n",
    "        \n",
    "    return result"
   ]
  },
  {
   "cell_type": "code",
   "execution_count": 320,
   "metadata": {},
   "outputs": [
    {
     "data": {
      "text/plain": [
       "{'Belligerents': ['Soviet Union', 'Germany', 'Polish Home Army'],\n",
       " 'Commanders and leaders': ['Ivan Chernyakhovsky Pavel Rotmistrov',\n",
       "  'Walter Model Dietrich von Saucken Rainer Stahel Theodor Tolsdorff',\n",
       "  'Aleksander Krzyżanowski Antoni Olechnowicz'],\n",
       " 'Strength': ['~100,000', '7,700', '?'],\n",
       " 'Casualties and losses': ['50-70 tanks\\n\\n?',\n",
       "  '8,000 killed; 5,000 captured in Vilnius alone (Soviet est)',\n",
       "  '?']}"
      ]
     },
     "execution_count": 320,
     "metadata": {},
     "output_type": "execute_result"
    }
   ],
   "source": [
    "_additional(table)"
   ]
  },
  {
   "cell_type": "markdown",
   "metadata": {},
   "source": [
    "## Test on  a few "
   ]
  },
  {
   "cell_type": "code",
   "execution_count": 279,
   "metadata": {},
   "outputs": [],
   "source": [
    "urls = {\n",
    "'Dakar': 'https://en.wikipedia.org/wiki/Battle_of_Dakar',\n",
    "'Brest': 'https://en.wikipedia.org/wiki/Battle_for_Brest',\n",
    "'Torpedo Alley': 'https://en.wikipedia.org/wiki/Torpedo_Alley',\n",
    "'Moravo': 'https://en.wikipedia.org/wiki/Battle_of_Morava%E2%80%93Ivan'\n",
    "}"
   ]
  },
  {
   "cell_type": "code",
   "execution_count": 284,
   "metadata": {},
   "outputs": [],
   "source": [
    "def _parse_battle_page(url):\n",
    "    print(url)\n",
    "    dom = _default_collect(url)\n",
    "    dom['url'] = url\n",
    "    \n",
    "    table = dom.find('table','infobox vevent')\n",
    "    if table is None:\n",
    "        return {}\n",
    "    \n",
    "    data = _get_main_info(table)\n",
    "    \n",
    "    additional = _additional(table)\n",
    "    data.update(additional)\n",
    "    return data\n",
    "\n"
   ]
  },
  {
   "cell_type": "code",
   "execution_count": 285,
   "metadata": {},
   "outputs": [
    {
     "name": "stdout",
     "output_type": "stream",
     "text": [
      "https://en.wikipedia.org/wiki/Battle_of_Dakar\n"
     ]
    },
    {
     "data": {
      "text/plain": [
       "{'main': {'Date': '23–25 September 1940',\n",
       "  'Location': 'Off Dakar, French West Africa',\n",
       "  'Result': 'Vichy French victory'},\n",
       " 'Belligerents': {'allies': 'United Kingdom\\xa0Free France\\xa0Australia',\n",
       "  'axis': 'Vichy France\\n\\n French West Africa'},\n",
       " 'Commanders and leaders': {'allies': 'John Cunningham Charles de Gaulle',\n",
       "  'axis': 'Pierre François Boisson'},\n",
       " 'Strength': {'allies': '2 battleships5 cruisers10 destroyers1 aircraft carrier',\n",
       "  'axis': '1 battleship2 cruisers4 destroyers 3 submarinescoastal emplacements'},\n",
       " 'Casualties and losses': {'allies': '1 battleship crippled1 battleship damaged 2 cruisers damaged1 armed trawler sunk6 torpedo planes lost',\n",
       "  'axis': '1 destroyer grounded2 submarines sunk1 battleship damagedDanish freighter MS Tacoma sunk[1][2]'}}"
      ]
     },
     "execution_count": 285,
     "metadata": {},
     "output_type": "execute_result"
    }
   ],
   "source": [
    "_parse_battle_page(url)"
   ]
  },
  {
   "cell_type": "code",
   "execution_count": 286,
   "metadata": {},
   "outputs": [
    {
     "name": "stdout",
     "output_type": "stream",
     "text": [
      "https://en.wikipedia.org/wiki/Battle_of_Dakar\n",
      "https://en.wikipedia.org/wiki/Battle_for_Brest\n",
      "https://en.wikipedia.org/wiki/Torpedo_Alley\n",
      "https://en.wikipedia.org/wiki/Battle_of_Morava%E2%80%93Ivan\n"
     ]
    }
   ],
   "source": [
    "result = {k:_parse_battle_page(v) for k, v in urls.items()}"
   ]
  },
  {
   "cell_type": "code",
   "execution_count": 287,
   "metadata": {},
   "outputs": [
    {
     "data": {
      "text/plain": [
       "{'main': {'Date': '14–23 November 1940',\n",
       "  'Location': 'Morava mountains, south-east AlbaniaCoordinates: 40°35′N 20°40′E\\ufeff / \\ufeff40.583°N 20.667°E\\ufeff / 40.583; 20.667',\n",
       "  'Result': 'Greek victory \\n\\nGreeks capture Korçë and Argyrokastro.'},\n",
       " 'Belligerents': {'allies': 'Italy', 'axis': 'Greece'},\n",
       " 'Commanders and leaders': {'allies': 'Gabriele Nasci',\n",
       "  'axis': 'Ioannis Pitsikas Georgios Kosmas'},\n",
       " 'Strength': {'allies': '55,000200 field guns',\n",
       "  'axis': '70,000198 field guns'},\n",
       " 'Casualties and losses': {'allies': 'unknown killed & wounded1,000 captured',\n",
       "  'axis': '624 killed2,348 wounded'}}"
      ]
     },
     "execution_count": 287,
     "metadata": {},
     "output_type": "execute_result"
    }
   ],
   "source": [
    "result['Moravo']"
   ]
  },
  {
   "cell_type": "code",
   "execution_count": 288,
   "metadata": {},
   "outputs": [
    {
     "data": {
      "text/plain": [
       "{'main': {'Date': '7 August – 19 September 1944',\n",
       "  'Location': 'Brittany, France',\n",
       "  'Result': 'Allied victory'},\n",
       " 'Belligerents': {'allies': 'United States\\xa0United Kingdom',\n",
       "  'axis': 'Germany'},\n",
       " 'Commanders and leaders': {'allies': 'Troy H. Middleton',\n",
       "  'axis': 'Hermann-Bernhard Ramcke\\xa0 Hans Kroh'},\n",
       " 'Strength': {'allies': 'VIII Corps\\n\\n2nd Infantry Division\\n8th Infantry Division\\n29th Infantry Division\\n2nd Ranger Battalion\\n5th Ranger Battalion\\n79th Armoured Division (elements)\\n6th Armored Division (elements)',\n",
       "  'axis': '2nd Fallschirmjäger-Division266. Infanterie-Division343. Infanterie-Division'},\n",
       " 'Casualties and losses': {'allies': '9,831 killed or wounded[1]',\n",
       "  'axis': '38,000 captured[1]'}}"
      ]
     },
     "execution_count": 288,
     "metadata": {},
     "output_type": "execute_result"
    }
   ],
   "source": [
    "result['Brest']"
   ]
  },
  {
   "cell_type": "code",
   "execution_count": null,
   "metadata": {},
   "outputs": [],
   "source": []
  }
 ],
 "metadata": {
  "kernelspec": {
   "display_name": "Python 3",
   "language": "python",
   "name": "python3"
  },
  "language_info": {
   "codemirror_mode": {
    "name": "ipython",
    "version": 3
   },
   "file_extension": ".py",
   "mimetype": "text/x-python",
   "name": "python",
   "nbconvert_exporter": "python",
   "pygments_lexer": "ipython3",
   "version": "3.7.3"
  }
 },
 "nbformat": 4,
 "nbformat_minor": 2
}
