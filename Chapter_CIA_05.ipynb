{
 "cells": [
  {
   "cell_type": "markdown",
   "metadata": {},
   "source": [
    "### Understanding the Conditional Statements"
   ]
  },
  {
   "cell_type": "markdown",
   "metadata": {},
   "source": [
    "######  If Statements"
   ]
  },
  {
   "cell_type": "code",
   "execution_count": 1,
   "metadata": {},
   "outputs": [
    {
     "name": "stdout",
     "output_type": "stream",
     "text": [
      "hello Annie.!\n"
     ]
    }
   ],
   "source": [
    "name = 'Annie'\n",
    "\n",
    "if name == 'Annie':\n",
    "    print('hello Annie.!')"
   ]
  },
  {
   "cell_type": "markdown",
   "metadata": {},
   "source": [
    "######  If-Else Statement"
   ]
  },
  {
   "cell_type": "code",
   "execution_count": 2,
   "metadata": {},
   "outputs": [
    {
     "name": "stdout",
     "output_type": "stream",
     "text": [
      "I don't know you...!\n"
     ]
    }
   ],
   "source": [
    "name = 'Adrain'\n",
    "\n",
    "if name == 'Annie':\n",
    "    print('hello Annie.!')\n",
    "else:\n",
    "    print(\"I don't know you...!\")"
   ]
  },
  {
   "cell_type": "markdown",
   "metadata": {},
   "source": [
    "######  logical branches in Elif Statements"
   ]
  },
  {
   "cell_type": "code",
   "execution_count": 3,
   "metadata": {},
   "outputs": [
    {
     "name": "stdout",
     "output_type": "stream",
     "text": [
      "I know you.!\n"
     ]
    }
   ],
   "source": [
    "if name in {'Adrain', 'Annie'}:\n",
    "    print('I know you.!')\n",
    "elif name in {'Agnus', 'Angela'}:\n",
    "    print(\"'Hi! I thing we've met somewhere...\")\n",
    "else:\n",
    "    print(\"I don't think I know you.\")"
   ]
  },
  {
   "cell_type": "markdown",
   "metadata": {},
   "source": [
    "#### Inline If Statements"
   ]
  },
  {
   "cell_type": "code",
   "execution_count": 4,
   "metadata": {},
   "outputs": [],
   "source": [
    "name = name if name is not None else 'Sigizmud'"
   ]
  },
  {
   "cell_type": "code",
   "execution_count": 5,
   "metadata": {},
   "outputs": [
    {
     "data": {
      "text/plain": [
       "'Adrain'"
      ]
     },
     "execution_count": 5,
     "metadata": {},
     "output_type": "execute_result"
    }
   ],
   "source": [
    "name"
   ]
  },
  {
   "cell_type": "markdown",
   "metadata": {},
   "source": [
    "#### Using If Block in Comphrehension"
   ]
  },
  {
   "cell_type": "code",
   "execution_count": 6,
   "metadata": {},
   "outputs": [],
   "source": [
    "characters = [\n",
    "    {\"name\" : \"peter\", \"surname\" : \"rabbit\"},\n",
    "    {\"name\" : \"Josephine\", \"surname\" : \"rabbit\"},\n",
    "    {\"name\" : \"Michael\", \"surname\" : \"McGregor\"}\n",
    "]\n",
    "\n",
    "rabbits = [e1['name'] for e1 in characters if e1['surname'] == 'rabbit']"
   ]
  },
  {
   "cell_type": "code",
   "execution_count": 7,
   "metadata": {},
   "outputs": [
    {
     "name": "stdout",
     "output_type": "stream",
     "text": [
      "['peter', 'Josephine']\n"
     ]
    }
   ],
   "source": [
    "print(rabbits)"
   ]
  },
  {
   "cell_type": "markdown",
   "metadata": {},
   "source": [
    "### Working with Loops"
   ]
  },
  {
   "cell_type": "code",
   "execution_count": 8,
   "metadata": {},
   "outputs": [
    {
     "name": "stdout",
     "output_type": "stream",
     "text": [
      "0\n",
      "1\n",
      "2\n",
      "3\n",
      "4\n",
      "5\n",
      "6\n",
      "7\n",
      "8\n",
      "9\n"
     ]
    }
   ],
   "source": [
    "# Dealing with For loop\n",
    "\n",
    "for i in range(10):\n",
    "    print(i)"
   ]
  },
  {
   "cell_type": "code",
   "execution_count": 9,
   "metadata": {},
   "outputs": [
    {
     "name": "stdout",
     "output_type": "stream",
     "text": [
      "J\n",
      "o\n",
      "s\n",
      "e\n",
      "p\n",
      "h\n"
     ]
    }
   ],
   "source": [
    "# Dealing with String using For loop\n",
    "\n",
    "for char in \"Joseph\":\n",
    "    print(char)"
   ]
  },
  {
   "cell_type": "code",
   "execution_count": 10,
   "metadata": {},
   "outputs": [
    {
     "name": "stdout",
     "output_type": "stream",
     "text": [
      "name : Tim\n",
      "surname : Hockins\n"
     ]
    }
   ],
   "source": [
    "# Using For loop in Dictionaries\n",
    "\n",
    "person = {\n",
    "    \"name\" : \"Tim\",\n",
    "    \"surname\"  : \"Hockins\"\n",
    "}\n",
    "\n",
    "for k,v in person.items():\n",
    "    print(k, ':', v)"
   ]
  },
  {
   "cell_type": "markdown",
   "metadata": {},
   "source": [
    "### ITERTOOLS"
   ]
  },
  {
   "cell_type": "markdown",
   "metadata": {},
   "source": [
    "#####  1. Cycle"
   ]
  },
  {
   "cell_type": "code",
   "execution_count": 11,
   "metadata": {},
   "outputs": [
    {
     "name": "stdout",
     "output_type": "stream",
     "text": [
      "1 red\n",
      "2 green\n",
      "3 blue\n",
      "4 red\n",
      "5 green\n",
      "6 blue\n"
     ]
    }
   ],
   "source": [
    "from itertools import cycle\n",
    "\n",
    "colors, categories = cycle(('red','green', 'blue')), (1,2,3,4,5,6)\n",
    "\n",
    "for cat,col in zip(categories, colors):\n",
    "    print(cat, col)"
   ]
  },
  {
   "cell_type": "markdown",
   "metadata": {},
   "source": [
    "##### 2. Groupby"
   ]
  },
  {
   "cell_type": "code",
   "execution_count": 12,
   "metadata": {},
   "outputs": [
    {
     "name": "stdout",
     "output_type": "stream",
     "text": [
      "rabbit\n",
      " peter\n",
      " Josephine\n",
      "McGregor\n",
      " Michael\n"
     ]
    }
   ],
   "source": [
    "from itertools import groupby\n",
    "characters = [\n",
    "    {\"name\" : \"peter\", \"surname\" : \"rabbit\"},\n",
    "    {\"name\" : \"Josephine\", \"surname\" : \"rabbit\"},\n",
    "    {\"name\" : \"Michael\", \"surname\" : \"McGregor\"}\n",
    "]\n",
    "\n",
    "for group_name, group in groupby(characters, lambda x: x['surname']):\n",
    "    print(group_name)\n",
    "    for e1 in group:\n",
    "        print('', e1['name'])"
   ]
  },
  {
   "cell_type": "markdown",
   "metadata": {},
   "source": [
    "##### 3. Product"
   ]
  },
  {
   "cell_type": "code",
   "execution_count": 13,
   "metadata": {},
   "outputs": [],
   "source": [
    "from itertools import product\n",
    "\n",
    "w1, w2, w3, w4 = \"Hello the wonderful world\".split()\n",
    "\n",
    "values = list()\n",
    "\n",
    "for el1 in w1:\n",
    "    for el2 in w2:\n",
    "        for el3 in w3:\n",
    "            for el4 in w4:\n",
    "                values.append(el1 + el2 + el3 + el4)"
   ]
  },
  {
   "cell_type": "code",
   "execution_count": 14,
   "metadata": {},
   "outputs": [],
   "source": [
    "values2 = list()\n",
    "\n",
    "for el1,el2,el3,el4 in product(w1,w2,w3,w4):\n",
    "    values2.append(el1 + el2 + el3 + el4)"
   ]
  },
  {
   "cell_type": "code",
   "execution_count": 15,
   "metadata": {},
   "outputs": [
    {
     "data": {
      "text/plain": [
       "True"
      ]
     },
     "execution_count": 15,
     "metadata": {},
     "output_type": "execute_result"
    }
   ],
   "source": [
    "# Comparing the Both Values\n",
    "\n",
    "values == values2"
   ]
  },
  {
   "cell_type": "markdown",
   "metadata": {},
   "source": [
    "#### Enumeration"
   ]
  },
  {
   "cell_type": "code",
   "execution_count": 16,
   "metadata": {},
   "outputs": [
    {
     "name": "stdout",
     "output_type": "stream",
     "text": [
      "1. name : Tim\n",
      "2. surname : Hockins\n"
     ]
    }
   ],
   "source": [
    "for i, (k,v) in enumerate(person.items(), 1):\n",
    "    print(f'{i}. {k} : {v}')"
   ]
  },
  {
   "cell_type": "markdown",
   "metadata": {},
   "source": [
    "#### While Loop"
   ]
  },
  {
   "cell_type": "code",
   "execution_count": 17,
   "metadata": {},
   "outputs": [
    {
     "name": "stdout",
     "output_type": "stream",
     "text": [
      "0\n",
      "1\n",
      "2\n",
      "3\n",
      "4\n"
     ]
    }
   ],
   "source": [
    "counter = 0\n",
    "\n",
    "while counter < 5:\n",
    "    print(counter)\n",
    "    counter += 1"
   ]
  },
  {
   "cell_type": "markdown",
   "metadata": {},
   "source": [
    "#### Working with Break and Continue"
   ]
  },
  {
   "cell_type": "markdown",
   "metadata": {},
   "source": [
    "##### 1. Break"
   ]
  },
  {
   "cell_type": "code",
   "execution_count": 18,
   "metadata": {},
   "outputs": [
    {
     "name": "stdout",
     "output_type": "stream",
     "text": [
      "D\n",
      "a\n"
     ]
    }
   ],
   "source": [
    "for letter in \"Data\":\n",
    "    if letter == 't':\n",
    "        break\n",
    "    else:\n",
    "        print(letter)"
   ]
  },
  {
   "cell_type": "markdown",
   "metadata": {},
   "source": [
    "##### 2. Continue"
   ]
  },
  {
   "cell_type": "code",
   "execution_count": 19,
   "metadata": {},
   "outputs": [
    {
     "name": "stdout",
     "output_type": "stream",
     "text": [
      "D\n",
      "a\n",
      "a\n"
     ]
    }
   ],
   "source": [
    "for letter in \"Data\":\n",
    "    if letter == 't':\n",
    "        continue\n",
    "    else:\n",
    "        print(letter)"
   ]
  },
  {
   "cell_type": "markdown",
   "metadata": {},
   "source": [
    "### Exception Handling"
   ]
  },
  {
   "cell_type": "markdown",
   "metadata": {},
   "source": [
    "#####  Dealing with Try and Finally Block"
   ]
  },
  {
   "cell_type": "code",
   "execution_count": 20,
   "metadata": {},
   "outputs": [
    {
     "name": "stdout",
     "output_type": "stream",
     "text": [
      "Something went Wrong..!\n"
     ]
    },
    {
     "ename": "ZeroDivisionError",
     "evalue": "division by zero",
     "output_type": "error",
     "traceback": [
      "\u001b[0;31m---------------------------------------------------------------------------\u001b[0m",
      "\u001b[0;31mZeroDivisionError\u001b[0m                         Traceback (most recent call last)",
      "\u001b[0;32m<ipython-input-20-5fd10d236f4a>\u001b[0m in \u001b[0;36m<module>\u001b[0;34m\u001b[0m\n\u001b[1;32m      1\u001b[0m \u001b[0;32mtry\u001b[0m\u001b[0;34m:\u001b[0m\u001b[0;34m\u001b[0m\u001b[0;34m\u001b[0m\u001b[0m\n\u001b[0;32m----> 2\u001b[0;31m     \u001b[0mresult\u001b[0m \u001b[0;34m=\u001b[0m \u001b[0;36m10\u001b[0m\u001b[0;34m/\u001b[0m\u001b[0;36m0\u001b[0m\u001b[0;34m\u001b[0m\u001b[0;34m\u001b[0m\u001b[0m\n\u001b[0m\u001b[1;32m      3\u001b[0m \u001b[0;32mfinally\u001b[0m\u001b[0;34m:\u001b[0m\u001b[0;34m\u001b[0m\u001b[0;34m\u001b[0m\u001b[0m\n\u001b[1;32m      4\u001b[0m     \u001b[0mprint\u001b[0m\u001b[0;34m(\u001b[0m\u001b[0;34m\"Something went Wrong..!\"\u001b[0m\u001b[0;34m)\u001b[0m\u001b[0;34m\u001b[0m\u001b[0;34m\u001b[0m\u001b[0m\n",
      "\u001b[0;31mZeroDivisionError\u001b[0m: division by zero"
     ]
    }
   ],
   "source": [
    "try:\n",
    "    result = 10/0\n",
    "finally:\n",
    "    print(\"Something went Wrong..!\")"
   ]
  },
  {
   "cell_type": "markdown",
   "metadata": {},
   "source": [
    "#####  Dealing with Try and Catch Block"
   ]
  },
  {
   "cell_type": "code",
   "execution_count": 21,
   "metadata": {},
   "outputs": [
    {
     "name": "stdout",
     "output_type": "stream",
     "text": [
      "something went wrong..!\n"
     ]
    }
   ],
   "source": [
    "try:\n",
    "    result = 10/0\n",
    "except:\n",
    "    print(\"something went wrong..!\") # except block is like Catch block to handle the Excetions."
   ]
  },
  {
   "cell_type": "markdown",
   "metadata": {},
   "source": [
    "### Warnings"
   ]
  },
  {
   "cell_type": "code",
   "execution_count": 22,
   "metadata": {},
   "outputs": [],
   "source": [
    "import warnings\n",
    "\n",
    "# Combining the Warnings and Exceptions Together\n",
    "\n",
    "def percentage(value, total):\n",
    "    try:\n",
    "        return 100 * (value/total)\n",
    "    except ZeroDivisionError:\n",
    "        warnings.warn('Total Cannot be Zero')\n",
    "    except(TypeError, KeyError) as e:\n",
    "        warnings.warn(f\"Something Went wrong with : {e}\")\n",
    "    except Exception as e:\n",
    "        raise Exception(value, total, e)\n",
    "    finally:\n",
    "        print('Anyhow, this function was executed...!')\n",
    "        "
   ]
  },
  {
   "cell_type": "code",
   "execution_count": 23,
   "metadata": {},
   "outputs": [
    {
     "name": "stdout",
     "output_type": "stream",
     "text": [
      "Anyhow, this function was executed...!\n"
     ]
    },
    {
     "name": "stderr",
     "output_type": "stream",
     "text": [
      "/anaconda3/lib/python3.7/site-packages/ipykernel_launcher.py:9: UserWarning: Total Cannot be Zero\n",
      "  if __name__ == '__main__':\n"
     ]
    }
   ],
   "source": [
    "percentage(10,0)"
   ]
  },
  {
   "cell_type": "code",
   "execution_count": 24,
   "metadata": {},
   "outputs": [
    {
     "name": "stdout",
     "output_type": "stream",
     "text": [
      "Anyhow, this function was executed...!\n"
     ]
    },
    {
     "name": "stderr",
     "output_type": "stream",
     "text": [
      "/anaconda3/lib/python3.7/site-packages/ipykernel_launcher.py:11: UserWarning: Something Went wrong with : unsupported operand type(s) for /: 'str' and 'str'\n",
      "  # This is added back by InteractiveShellApp.init_path()\n"
     ]
    }
   ],
   "source": [
    "percentage('hello','world')"
   ]
  },
  {
   "cell_type": "markdown",
   "metadata": {},
   "source": [
    "#### With Statements"
   ]
  },
  {
   "cell_type": "code",
   "execution_count": 25,
   "metadata": {},
   "outputs": [
    {
     "name": "stdout",
     "output_type": "stream",
     "text": [
      "This is a sample text used to explain the With Statements Concept.\n"
     ]
    }
   ],
   "source": [
    "with open('text_file.txt','r') as file:\n",
    "    data = file.read()\n",
    "\n",
    "print(data)"
   ]
  },
  {
   "cell_type": "code",
   "execution_count": 26,
   "metadata": {},
   "outputs": [],
   "source": [
    "# Handling the Exception in With Statement\n",
    "\n",
    "try:\n",
    "    file = open('text_file.txt','r').__enter__()\n",
    "    data = file.read()\n",
    "finally:\n",
    "    file.__exit__()"
   ]
  },
  {
   "cell_type": "code",
   "execution_count": 27,
   "metadata": {},
   "outputs": [],
   "source": [
    "# this is the End of the Chapter 05 Coding Examples. Everythings Works fine. The Code examples given in the book are working fine\n",
    "# There is no problem in the code."
   ]
  },
  {
   "cell_type": "code",
   "execution_count": null,
   "metadata": {},
   "outputs": [],
   "source": []
  }
 ],
 "metadata": {
  "kernelspec": {
   "display_name": "Python 3",
   "language": "python",
   "name": "python3"
  },
  "language_info": {
   "codemirror_mode": {
    "name": "ipython",
    "version": 3
   },
   "file_extension": ".py",
   "mimetype": "text/x-python",
   "name": "python",
   "nbconvert_exporter": "python",
   "pygments_lexer": "ipython3",
   "version": "3.7.3"
  }
 },
 "nbformat": 4,
 "nbformat_minor": 2
}
