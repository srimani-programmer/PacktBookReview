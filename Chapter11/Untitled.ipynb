{
 "cells": [
  {
   "cell_type": "code",
   "execution_count": 65,
   "metadata": {},
   "outputs": [],
   "source": [
    "%matplotlib inline\n",
    "import pylab as plt\n",
    "plt.style.use('fivethirtyeight')\n",
    "\n",
    "import pandas as pd\n",
    "import json\n",
    "import missingno as msno"
   ]
  },
  {
   "cell_type": "code",
   "execution_count": 66,
   "metadata": {},
   "outputs": [],
   "source": [
    "from glob import glob"
   ]
  },
  {
   "cell_type": "code",
   "execution_count": 67,
   "metadata": {},
   "outputs": [
    {
     "data": {
      "text/plain": [
       "['./data/Western Front.csv',\n",
       " './data/Atlantic Ocean.csv',\n",
       " './data/Mediterranean Front.csv',\n",
       " './data/China Front.csv',\n",
       " './data/Eastern Front.csv',\n",
       " './data/Southeast Asia Front.csv',\n",
       " './data/African Front.csv',\n",
       " './data/Indian Ocean.csv',\n",
       " './data/Pacific Theatre.csv']"
      ]
     },
     "execution_count": 67,
     "metadata": {},
     "output_type": "execute_result"
    }
   ],
   "source": [
    "paths = [el for el in glob('./data/*.csv') if 'EF_battles' not in el]\n",
    "paths"
   ]
  },
  {
   "cell_type": "code",
   "execution_count": 68,
   "metadata": {},
   "outputs": [],
   "source": [
    "datas = pd.concat([pd.read_csv(path) for path in paths], sort=False).reset_index(drop=False)"
   ]
  },
  {
   "cell_type": "code",
   "execution_count": 69,
   "metadata": {},
   "outputs": [
    {
     "data": {
      "text/plain": [
       "(624, 26)"
      ]
     },
     "execution_count": 69,
     "metadata": {},
     "output_type": "execute_result"
    }
   ],
   "source": [
    "datas.shape"
   ]
  },
  {
   "cell_type": "code",
   "execution_count": 70,
   "metadata": {},
   "outputs": [
    {
     "data": {
      "text/plain": [
       "100    510\n",
       "1       71\n",
       "3       33\n",
       "5        9\n",
       "7        1\n",
       "Name: level, dtype: int64"
      ]
     },
     "execution_count": 70,
     "metadata": {},
     "output_type": "execute_result"
    }
   ],
   "source": [
    "datas.level.value_counts()"
   ]
  },
  {
   "cell_type": "code",
   "execution_count": 71,
   "metadata": {},
   "outputs": [],
   "source": [
    "battles = datas[datas.level == 100]"
   ]
  },
  {
   "cell_type": "code",
   "execution_count": 72,
   "metadata": {},
   "outputs": [],
   "source": [
    "columns = ['Location', 'name', 'Date', 'Result', 'Belligerents.allies',\n",
    "           'Belligerents.axis', 'Casualties and losses.allies', 'Casualties and losses.axis']"
   ]
  },
  {
   "cell_type": "code",
   "execution_count": 74,
   "metadata": {},
   "outputs": [
    {
     "data": {
      "text/html": [
       "<div>\n",
       "<style scoped>\n",
       "    .dataframe tbody tr th:only-of-type {\n",
       "        vertical-align: middle;\n",
       "    }\n",
       "\n",
       "    .dataframe tbody tr th {\n",
       "        vertical-align: top;\n",
       "    }\n",
       "\n",
       "    .dataframe thead th {\n",
       "        text-align: right;\n",
       "    }\n",
       "</style>\n",
       "<table border=\"1\" class=\"dataframe\">\n",
       "  <thead>\n",
       "    <tr style=\"text-align: right;\">\n",
       "      <th></th>\n",
       "      <th>Location</th>\n",
       "      <th>name</th>\n",
       "      <th>Date</th>\n",
       "      <th>Result</th>\n",
       "      <th>Belligerents.allies</th>\n",
       "      <th>Belligerents.axis</th>\n",
       "      <th>Casualties and losses.allies</th>\n",
       "      <th>Casualties and losses.axis</th>\n",
       "    </tr>\n",
       "  </thead>\n",
       "  <tbody>\n",
       "    <tr>\n",
       "      <th>420</th>\n",
       "      <td>NaN</td>\n",
       "      <td>Battle of Oktwin</td>\n",
       "      <td>NaN</td>\n",
       "      <td>NaN</td>\n",
       "      <td>NaN</td>\n",
       "      <td>NaN</td>\n",
       "      <td>NaN</td>\n",
       "      <td>NaN</td>\n",
       "    </tr>\n",
       "    <tr>\n",
       "      <th>427</th>\n",
       "      <td>NaN</td>\n",
       "      <td>Chindits Raid</td>\n",
       "      <td>NaN</td>\n",
       "      <td>NaN</td>\n",
       "      <td>NaN</td>\n",
       "      <td>NaN</td>\n",
       "      <td>NaN</td>\n",
       "      <td>NaN</td>\n",
       "    </tr>\n",
       "    <tr>\n",
       "      <th>445</th>\n",
       "      <td>NaN</td>\n",
       "      <td>Operation Matterhorn</td>\n",
       "      <td>NaN</td>\n",
       "      <td>NaN</td>\n",
       "      <td>United States</td>\n",
       "      <td>Japan</td>\n",
       "      <td>NaN</td>\n",
       "      <td>NaN</td>\n",
       "    </tr>\n",
       "    <tr>\n",
       "      <th>509</th>\n",
       "      <td>NaN</td>\n",
       "      <td>Action of 8 May 1941</td>\n",
       "      <td>NaN</td>\n",
       "      <td>NaN</td>\n",
       "      <td>United Kingdom</td>\n",
       "      <td>Germany</td>\n",
       "      <td>1 killed 1 heavy cruiser slightly damaged</td>\n",
       "      <td>332 killed 60 captured 1 auxiliary cruiser sunk</td>\n",
       "    </tr>\n",
       "    <tr>\n",
       "      <th>510</th>\n",
       "      <td>NaN</td>\n",
       "      <td>Japanese occupation of the Andaman Islands</td>\n",
       "      <td>NaN</td>\n",
       "      <td>NaN</td>\n",
       "      <td>NaN</td>\n",
       "      <td>NaN</td>\n",
       "      <td>NaN</td>\n",
       "      <td>NaN</td>\n",
       "    </tr>\n",
       "  </tbody>\n",
       "</table>\n",
       "</div>"
      ],
      "text/plain": [
       "    Location                                        name Date Result  \\\n",
       "420      NaN                            Battle of Oktwin  NaN    NaN   \n",
       "427      NaN                               Chindits Raid  NaN    NaN   \n",
       "445      NaN                        Operation Matterhorn  NaN    NaN   \n",
       "509      NaN                        Action of 8 May 1941  NaN    NaN   \n",
       "510      NaN  Japanese occupation of the Andaman Islands  NaN    NaN   \n",
       "\n",
       "    Belligerents.allies Belligerents.axis  \\\n",
       "420                 NaN               NaN   \n",
       "427                 NaN               NaN   \n",
       "445       United States             Japan   \n",
       "509      United Kingdom           Germany   \n",
       "510                 NaN               NaN   \n",
       "\n",
       "                  Casualties and losses.allies  \\\n",
       "420                                        NaN   \n",
       "427                                        NaN   \n",
       "445                                        NaN   \n",
       "509  1 killed 1 heavy cruiser slightly damaged   \n",
       "510                                        NaN   \n",
       "\n",
       "                          Casualties and losses.axis  \n",
       "420                                              NaN  \n",
       "427                                              NaN  \n",
       "445                                              NaN  \n",
       "509  332 killed 60 captured 1 auxiliary cruiser sunk  \n",
       "510                                              NaN  "
      ]
     },
     "execution_count": 74,
     "metadata": {},
     "output_type": "execute_result"
    }
   ],
   "source": [
    "battles.loc[battles.Location.isnull(), columns].tail()"
   ]
  },
  {
   "cell_type": "code",
   "execution_count": 75,
   "metadata": {},
   "outputs": [
    {
     "data": {
      "text/plain": [
       "<matplotlib.axes._subplots.AxesSubplot at 0x1a19f13940>"
      ]
     },
     "execution_count": 75,
     "metadata": {},
     "output_type": "execute_result"
    },
    {
     "data": {
      "image/png": "[encoded data removed]",
      "text/plain": [
       "<Figure size 1800x720 with 1 Axes>"
      ]
     },
     "metadata": {},
     "output_type": "display_data"
    }
   ],
   "source": [
    "msno.matrix(battles[columns], labels=True, sparkline=False)"
   ]
  },
  {
   "cell_type": "code",
   "execution_count": 76,
   "metadata": {},
   "outputs": [],
   "source": [
    "mask = battles[['Date', 'Location']].isnull().all(1)"
   ]
  },
  {
   "cell_type": "code",
   "execution_count": 77,
   "metadata": {},
   "outputs": [],
   "source": [
    "battles=battles.dropna(subset=['Date', 'Location'])"
   ]
  },
  {
   "cell_type": "markdown",
   "metadata": {},
   "source": [
    "# Location"
   ]
  },
  {
   "cell_type": "code",
   "execution_count": 111,
   "metadata": {},
   "outputs": [],
   "source": [
    "pattern = r'/ ([\\d|\\.|-]+); ([\\d|\\.|-]+)'"
   ]
  },
  {
   "cell_type": "code",
   "execution_count": 112,
   "metadata": {},
   "outputs": [],
   "source": [
    "# battles.iloc[9]['Location']"
   ]
  },
  {
   "cell_type": "code",
   "execution_count": 113,
   "metadata": {},
   "outputs": [],
   "source": [
    "battles[['Lattitude', 'Longitude']] = battles.Location.str.extract(pattern)"
   ]
  },
  {
   "cell_type": "code",
   "execution_count": 114,
   "metadata": {},
   "outputs": [],
   "source": [
    "for col in  'Lattitude', 'Longitude':\n",
    "    battles[col] =  battles[col].astype(float)"
   ]
  },
  {
   "cell_type": "code",
   "execution_count": 115,
   "metadata": {},
   "outputs": [
    {
     "data": {
      "text/plain": [
       "'68.7%'"
      ]
     },
     "execution_count": 115,
     "metadata": {},
     "output_type": "execute_result"
    }
   ],
   "source": [
    "f\"{(battles['Lattitude'].isnull().sum() / len(battles)):.1%}\""
   ]
  },
  {
   "cell_type": "markdown",
   "metadata": {},
   "source": [
    "# Geocode"
   ]
  },
  {
   "cell_type": "markdown",
   "metadata": {},
   "source": [
    "So, we actually don't have coordinates for 78% of our battles, which is too hight. As an alternative, let's use the geocoding function we wrote in chapter 6! Of course, some addesses are obsolete, but most will, probably, get us to the coordinates"
   ]
  },
  {
   "cell_type": "code",
   "execution_count": 136,
   "metadata": {},
   "outputs": [],
   "source": [
    "from geocode import nominatim_geocode # copied the file from folder \"Chapter06\""
   ]
  },
  {
   "cell_type": "code",
   "execution_count": 137,
   "metadata": {},
   "outputs": [
    {
     "name": "stderr",
     "output_type": "stream",
     "text": [
      "\n",
      "\n",
      "0it [00:00, ?it/s]\u001b[A\u001b[A"
     ]
    }
   ],
   "source": [
    "from tqdm import tqdm, tqdm_notebook\n",
    "tqdm().pandas()"
   ]
  },
  {
   "cell_type": "code",
   "execution_count": 138,
   "metadata": {},
   "outputs": [],
   "source": [
    "geo_mask = battles['Lattitude'].isnull()"
   ]
  },
  {
   "cell_type": "code",
   "execution_count": 140,
   "metadata": {},
   "outputs": [
    {
     "data": {
      "text/plain": [
       "257                             Bryansk, Soviet Union\n",
       "330                                            Poland\n",
       "280     Rzhev and Velikie Luki salients, Russian SFSR\n",
       "230                                  Petsamo, Finland\n",
       "115                                    Wesel, Germany\n",
       "490                                              Iraq\n",
       "8                               Mill, the Netherlands\n",
       "397                                            Malaya\n",
       "593              New Georgia Islands, Solomon Islands\n",
       "358                   Debrecen / Nyíregyháza, Hungary\n",
       "581           Huon Peninsula, Territory of New Guinea\n",
       "562                      Guadalcanal, Solomon Islands\n",
       "494    off Casablanca, French Morocco, Atlantic Ocean\n",
       "240           Petsamo, Litsa River, Rybachy Peninsula\n",
       "234                                  Petsamo, Finland\n",
       "Name: Location, dtype: object"
      ]
     },
     "execution_count": 140,
     "metadata": {},
     "output_type": "execute_result"
    }
   ],
   "source": [
    "battles.loc[geo_mask, 'Location'].sample(15, random_state=2019)"
   ]
  },
  {
   "cell_type": "code",
   "execution_count": 141,
   "metadata": {},
   "outputs": [],
   "source": [
    "location = battles['Location'].str.lower().str.replace('near ', '')"
   ]
  },
  {
   "cell_type": "code",
   "execution_count": 142,
   "metadata": {},
   "outputs": [],
   "source": [
    "replacements = {\n",
    "    'Ukrainian SSR, Soviet Union': 'Ukraine',\n",
    "    'Russian SFSR, Soviet Union': 'Russia',\n",
    "    'Russian SFSR': 'Russia',\n",
    "    'Belorussian SSR': 'Belorus',\n",
    "    'Soviet Union': '',\n",
    "    'USSR': '',\n",
    "    ', Poland (now Ukraine)': 'Ukraine',\n",
    "    'east prussia (now kaliningrad oblast)': 'Kaliningrad Oblast, Russia',\n",
    "    ', czechoslovakia': ', czech republic',\n",
    "    'königsberg, germany (now: kaliningrad, russia)': 'Kaliningrad Oblast, Russia',\n",
    "    'lwów, lwów voivodeship, poland': 'Lvov, Ukraine',\n",
    "    'leningrad region, ; narva, estonia': 'Narva, Estonia',\n",
    "    'Kingdom of Hungary': 'Hungary',\n",
    "    'odessa region, ukraine': 'Odessa, Ukraine'\n",
    "}"
   ]
  },
  {
   "cell_type": "code",
   "execution_count": 143,
   "metadata": {},
   "outputs": [],
   "source": [
    "for k, v in replacements.items():\n",
    "    location = location.str.replace(k.lower(), v.lower(), regex=False)"
   ]
  },
  {
   "cell_type": "code",
   "execution_count": 144,
   "metadata": {},
   "outputs": [],
   "source": [
    "def vectorized_geocode(x):\n",
    "    result = nominatim_geocode(x)\n",
    "    if len(result) == 0:\n",
    "        return dict()\n",
    "    return {k:result[0][k] for k in ('lat', 'lon', 'importance', 'display_name')}"
   ]
  },
  {
   "cell_type": "code",
   "execution_count": 145,
   "metadata": {},
   "outputs": [],
   "source": [
    "# nominatim_geocode('realm commissariat ostland\\ngeneral district of latvia\\nkreisgebiete liepaja\\nkreise aizpute\\nkreise kuldiga\\nkreise liepaja\\nkreise liepaja (city)\\nkreise talsi\\nkreise ventspils\\nkreisgebiete jelgava\\nkreise jelgava\\nkreise tukums\\ngeneral district of lithuania\\nkreisgebiete siauliai\\nkreise kretinga\\nkreise mazeikiai'.replace('\\n', ' '))"
   ]
  },
  {
   "cell_type": "code",
   "execution_count": 146,
   "metadata": {},
   "outputs": [],
   "source": [
    "location[location.fillna('').str.contains('kreisgebiete')] = 'Courland Peninsula'"
   ]
  },
  {
   "cell_type": "code",
   "execution_count": 147,
   "metadata": {},
   "outputs": [
    {
     "data": {
      "text/plain": [
       "1                                                denmark\n",
       "2                                         narvik, norway\n",
       "3                                   drøbak sound, norway\n",
       "4             dombås area in dovre, gudbrandsdal, norway\n",
       "5      åndalsnes and points to the north and east, no...\n",
       "8                                  mill, the netherlands\n",
       "11     maastricht, netherlands, and the surrounding area\n",
       "12                             dutch province of zeeland\n",
       "21                                            luxembourg\n",
       "29                                         france, paris\n",
       "30                                       dunkirk, france\n",
       "33                                 franco-italian border\n",
       "35                           england and english channel\n",
       "36                  southern england and english channel\n",
       "37                   london, england and english channel\n",
       "44                                        dieppe, france\n",
       "45                                  berlin, nazi germany\n",
       "47                                villers-bocage, france\n",
       "50                           carpiquet, normandy, france\n",
       "56     verrières ridge, 8 km (5.0 mi) south of caen, ...\n",
       "57     verrières ridge (8 km (5 miles) south of caen)...\n",
       "62                                      saint-lô, france\n",
       "64                             mortain, normandy, france\n",
       "65                                      brittany, france\n",
       "66                                      normandy, france\n",
       "67                     mont ormel, northeast of chambois\n",
       "71                           paris and outskirts, france\n",
       "76              off la ciotat, france, mediterranean sea\n",
       "78     along and around the siegfried line, (france, ...\n",
       "90                                   moerbrugge, belgium\n",
       "                             ...                        \n",
       "579    salamaua–lae area, morobe province, territory ...\n",
       "580            finisterre range, territory of new guinea\n",
       "581              huon peninsula, territory of new guinea\n",
       "583                 new britain, territory of new guinea\n",
       "586    territory of new guinea and netherlands new gu...\n",
       "587    aitape/wewak/sepik region, territory of new gu...\n",
       "589                              off komandorski islands\n",
       "590        attu, aleutian islands, alaska, united states\n",
       "592                    bougainville in the south pacific\n",
       "593                 new georgia islands, solomon islands\n",
       "594                        kolombangara, solomon islands\n",
       "595                  kolombangara in the solomon islands\n",
       "596                  kolombangara in the solomon islands\n",
       "598                 vella lavella in the solomon islands\n",
       "599    empress augusta bay, bougainville, territory o...\n",
       "600                   buka island, north of bougainville\n",
       "602          betio island, tarawa atoll, gilbert islands\n",
       "603                    kwajalein atoll, marshall islands\n",
       "604                     eniwetok atoll, marshall islands\n",
       "606                              saipan, mariana islands\n",
       "607                                   the philippine sea\n",
       "608                                guam, mariana islands\n",
       "609                              tinian, mariana islands\n",
       "611                                angaur, palau islands\n",
       "613                                     dutch new guinea\n",
       "614         morotai, off north halmahera, maluku islands\n",
       "616                                 east of samar island\n",
       "618                                   luzon, philippines\n",
       "621                            iwo jima, volcano islands\n",
       "623                  balikpapan, netherlands east indies\n",
       "Name: Location, Length: 332, dtype: object"
      ]
     },
     "execution_count": 147,
     "metadata": {},
     "output_type": "execute_result"
    }
   ],
   "source": [
    "location[geo_mask]"
   ]
  },
  {
   "cell_type": "code",
   "execution_count": 148,
   "metadata": {},
   "outputs": [
    {
     "name": "stderr",
     "output_type": "stream",
     "text": [
      "\n",
      "\n",
      "  0%|          | 0/332 [00:00<?, ?it/s]\u001b[A\u001b[A\n",
      "\n",
      "  7%|▋         | 24/332 [00:01<00:19, 15.87it/s]\u001b[A\u001b[A\n",
      "\n",
      "  8%|▊         | 25/332 [00:03<02:33,  1.99it/s]\u001b[A\u001b[A\n",
      "\n",
      "  8%|▊         | 26/332 [00:04<04:05,  1.25it/s]\u001b[A\u001b[A\n",
      "\n",
      "  8%|▊         | 27/332 [00:06<05:10,  1.02s/it]\u001b[A\u001b[A\n",
      "\n",
      "  8%|▊         | 28/332 [00:07<05:52,  1.16s/it]\u001b[A\u001b[A\n",
      "\n",
      "  9%|▊         | 29/332 [00:09<06:22,  1.26s/it]\u001b[A\u001b[A\n",
      "\n",
      "  9%|▉         | 30/332 [00:10<06:43,  1.34s/it]\u001b[A\u001b[A\n",
      "\n",
      "  9%|▉         | 31/332 [00:12<06:56,  1.38s/it]\u001b[A\u001b[A\n",
      "\n",
      " 10%|▉         | 32/332 [00:13<07:03,  1.41s/it]\u001b[A\u001b[A\n",
      "\n",
      " 10%|▉         | 33/332 [00:15<07:10,  1.44s/it]\u001b[A\u001b[A\n",
      "\n",
      " 10%|█         | 34/332 [00:17<08:47,  1.77s/it]\u001b[A\u001b[A\n",
      "\n",
      " 11%|█         | 35/332 [00:19<08:39,  1.75s/it]\u001b[A\u001b[A\n",
      "\n",
      " 11%|█         | 36/332 [00:20<08:18,  1.68s/it]\u001b[A\u001b[A\n",
      "\n",
      " 11%|█         | 37/332 [00:22<08:01,  1.63s/it]\u001b[A\u001b[A\n",
      "\n",
      " 11%|█▏        | 38/332 [00:23<07:50,  1.60s/it]\u001b[A\u001b[A\n",
      "\n",
      " 12%|█▏        | 39/332 [00:25<07:39,  1.57s/it]\u001b[A\u001b[A\n",
      "\n",
      " 12%|█▏        | 40/332 [00:27<08:19,  1.71s/it]\u001b[A\u001b[A\n",
      "\n",
      " 12%|█▏        | 41/332 [00:28<08:00,  1.65s/it]\u001b[A\u001b[A\n",
      "\n",
      " 13%|█▎        | 42/332 [00:30<07:45,  1.60s/it]\u001b[A\u001b[A\n",
      "\n",
      " 13%|█▎        | 43/332 [00:31<07:34,  1.57s/it]\u001b[A\u001b[A\n",
      "\n",
      " 13%|█▎        | 44/332 [00:33<07:28,  1.56s/it]\u001b[A\u001b[A\n",
      "\n",
      " 14%|█▎        | 45/332 [00:34<07:23,  1.54s/it]\u001b[A\u001b[A\n",
      "\n",
      " 14%|█▍        | 46/332 [00:36<07:18,  1.53s/it]\u001b[A\u001b[A\n",
      "\n",
      " 14%|█▍        | 47/332 [00:37<07:13,  1.52s/it]\u001b[A\u001b[A\n",
      "\n",
      " 14%|█▍        | 48/332 [00:39<07:15,  1.53s/it]\u001b[A\u001b[A\n",
      "\n",
      " 15%|█▍        | 49/332 [00:40<07:10,  1.52s/it]\u001b[A\u001b[A\n",
      "\n",
      " 15%|█▌        | 50/332 [00:42<07:06,  1.51s/it]\u001b[A\u001b[A\n",
      "\n",
      " 15%|█▌        | 51/332 [00:43<07:04,  1.51s/it]\u001b[A\u001b[A\n",
      "\n",
      " 16%|█▌        | 52/332 [00:45<07:02,  1.51s/it]\u001b[A\u001b[A\n",
      "\n",
      " 16%|█▌        | 53/332 [00:46<07:01,  1.51s/it]\u001b[A\u001b[A\n",
      "\n",
      " 16%|█▋        | 54/332 [00:48<06:58,  1.51s/it]\u001b[A\u001b[A\n",
      "\n",
      " 17%|█▋        | 55/332 [00:50<06:59,  1.51s/it]\u001b[A\u001b[A\n",
      "\n",
      " 17%|█▋        | 56/332 [00:51<06:59,  1.52s/it]\u001b[A\u001b[A\n",
      "\n",
      " 17%|█▋        | 57/332 [00:53<06:57,  1.52s/it]\u001b[A\u001b[A\n",
      "\n",
      " 17%|█▋        | 58/332 [00:54<06:55,  1.52s/it]\u001b[A\u001b[A\n",
      "\n",
      " 18%|█▊        | 59/332 [00:56<06:55,  1.52s/it]\u001b[A\u001b[A\n",
      "\n",
      " 18%|█▊        | 60/332 [00:57<06:52,  1.52s/it]\u001b[A\u001b[A\n",
      "\n",
      " 18%|█▊        | 61/332 [00:59<06:52,  1.52s/it]\u001b[A\u001b[A\n",
      "\n",
      " 19%|█▊        | 62/332 [01:00<06:48,  1.51s/it]\u001b[A\u001b[A\n",
      "\n",
      " 19%|█▉        | 63/332 [01:02<06:47,  1.52s/it]\u001b[A\u001b[A\n",
      "\n",
      " 19%|█▉        | 64/332 [01:03<06:45,  1.51s/it]\u001b[A\u001b[A\n",
      "\n",
      " 20%|█▉        | 65/332 [01:05<06:41,  1.50s/it]\u001b[A\u001b[A\n",
      "\n",
      " 20%|█▉        | 66/332 [01:06<06:39,  1.50s/it]\u001b[A\u001b[A\n",
      "\n",
      " 20%|██        | 67/332 [01:08<06:37,  1.50s/it]\u001b[A\u001b[A\n",
      "\n",
      " 20%|██        | 68/332 [01:09<06:35,  1.50s/it]\u001b[A\u001b[A\n",
      "\n",
      " 21%|██        | 69/332 [01:11<06:33,  1.50s/it]\u001b[A\u001b[A\n",
      "\n",
      " 21%|██        | 70/332 [01:12<06:31,  1.49s/it]\u001b[A\u001b[A\n",
      "\n",
      " 21%|██▏       | 71/332 [01:14<06:29,  1.49s/it]\u001b[A\u001b[A\n",
      "\n",
      " 22%|██▏       | 72/332 [01:15<06:26,  1.49s/it]\u001b[A\u001b[A\n",
      "\n",
      " 22%|██▏       | 73/332 [01:17<06:27,  1.50s/it]\u001b[A\u001b[A\n",
      "\n",
      " 22%|██▏       | 74/332 [01:18<06:27,  1.50s/it]\u001b[A\u001b[A\n",
      "\n",
      " 23%|██▎       | 75/332 [01:20<06:26,  1.50s/it]\u001b[A\u001b[A\n",
      "\n",
      " 23%|██▎       | 76/332 [01:21<06:23,  1.50s/it]\u001b[A\u001b[A\n",
      "\n",
      " 23%|██▎       | 77/332 [01:23<06:19,  1.49s/it]\u001b[A\u001b[A\n",
      "\n",
      " 23%|██▎       | 78/332 [01:24<06:19,  1.49s/it]\u001b[A\u001b[A\n",
      "\n",
      " 24%|██▍       | 79/332 [01:26<06:16,  1.49s/it]\u001b[A\u001b[A\n",
      "\n",
      " 24%|██▍       | 80/332 [01:27<06:17,  1.50s/it]\u001b[A\u001b[A\n",
      "\n",
      " 24%|██▍       | 81/332 [01:29<06:16,  1.50s/it]\u001b[A\u001b[A\n",
      "\n",
      " 25%|██▍       | 82/332 [01:30<06:18,  1.51s/it]\u001b[A\u001b[A\n",
      "\n",
      " 25%|██▌       | 83/332 [01:32<06:16,  1.51s/it]\u001b[A\u001b[A\n",
      "\n",
      " 25%|██▌       | 84/332 [01:33<06:13,  1.51s/it]\u001b[A\u001b[A\n",
      "\n",
      " 26%|██▌       | 85/332 [01:35<06:13,  1.51s/it]\u001b[A\u001b[A\n",
      "\n",
      " 26%|██▌       | 86/332 [01:36<06:11,  1.51s/it]\u001b[A\u001b[A\n",
      "\n",
      " 26%|██▌       | 87/332 [01:38<06:11,  1.52s/it]\u001b[A\u001b[A\n",
      "\n",
      " 27%|██▋       | 88/332 [01:39<06:07,  1.51s/it]\u001b[A\u001b[A\n",
      "\n",
      " 27%|██▋       | 89/332 [01:41<06:06,  1.51s/it]\u001b[A\u001b[A\n",
      "\n",
      " 27%|██▋       | 90/332 [01:42<06:04,  1.51s/it]\u001b[A\u001b[A\n",
      "\n",
      " 27%|██▋       | 91/332 [01:44<06:02,  1.50s/it]\u001b[A\u001b[A\n",
      "\n",
      " 28%|██▊       | 92/332 [01:45<05:59,  1.50s/it]\u001b[A\u001b[A\n",
      "\n",
      " 28%|██▊       | 93/332 [01:47<05:57,  1.50s/it]\u001b[A\u001b[A\n",
      "\n",
      " 29%|██▊       | 95/332 [01:48<05:01,  1.27s/it]\u001b[A\u001b[A\n",
      "\n",
      " 29%|██▉       | 96/332 [01:50<05:15,  1.34s/it]\u001b[A\u001b[A\n",
      "\n",
      " 29%|██▉       | 97/332 [01:51<05:26,  1.39s/it]\u001b[A\u001b[A\n",
      "\n",
      " 30%|██▉       | 98/332 [01:53<05:34,  1.43s/it]\u001b[A\u001b[A\n",
      "\n",
      " 30%|██▉       | 99/332 [01:54<05:40,  1.46s/it]\u001b[A\u001b[A\n",
      "\n",
      " 30%|███       | 100/332 [01:56<05:43,  1.48s/it]\u001b[A\u001b[A\n",
      "\n",
      " 30%|███       | 101/332 [01:57<05:41,  1.48s/it]\u001b[A\u001b[A\n",
      "\n",
      " 31%|███       | 102/332 [01:59<05:41,  1.48s/it]\u001b[A\u001b[A\n",
      "\n",
      " 31%|███       | 103/332 [02:00<05:39,  1.48s/it]\u001b[A\u001b[A\n",
      "\n",
      " 31%|███▏      | 104/332 [02:02<05:39,  1.49s/it]\u001b[A\u001b[A\n",
      "\n",
      " 32%|███▏      | 105/332 [02:03<05:38,  1.49s/it]\u001b[A\u001b[A\n",
      "\n",
      " 32%|███▏      | 106/332 [02:05<05:39,  1.50s/it]\u001b[A\u001b[A\n",
      "\n",
      " 32%|███▏      | 107/332 [02:06<05:41,  1.52s/it]\u001b[A\u001b[A\n",
      "\n",
      " 33%|███▎      | 108/332 [02:08<05:39,  1.51s/it]\u001b[A\u001b[A\n",
      "\n",
      " 33%|███▎      | 109/332 [02:09<05:35,  1.50s/it]\u001b[A\u001b[A\n",
      "\n",
      " 33%|███▎      | 110/332 [02:11<05:32,  1.50s/it]\u001b[A\u001b[A\n",
      "\n",
      " 33%|███▎      | 111/332 [02:12<05:34,  1.51s/it]\u001b[A\u001b[A\n",
      "\n",
      " 34%|███▎      | 112/332 [02:14<05:32,  1.51s/it]\u001b[A\u001b[A\n",
      "\n",
      " 34%|███▍      | 113/332 [02:16<06:28,  1.77s/it]\u001b[A\u001b[A\n",
      "\n",
      " 34%|███▍      | 114/332 [02:18<06:09,  1.69s/it]\u001b[A\u001b[A\n",
      "\n",
      " 35%|███▍      | 115/332 [02:19<05:55,  1.64s/it]\u001b[A\u001b[A\n",
      "\n",
      " 35%|███▍      | 116/332 [02:21<05:43,  1.59s/it]\u001b[A\u001b[A\n",
      "\n",
      " 35%|███▌      | 117/332 [02:22<05:34,  1.56s/it]\u001b[A\u001b[A\n",
      "\n",
      " 36%|███▌      | 118/332 [02:24<05:28,  1.53s/it]\u001b[A\u001b[A\n",
      "\n",
      " 36%|███▌      | 119/332 [02:25<05:25,  1.53s/it]\u001b[A\u001b[A\n",
      "\n",
      " 36%|███▌      | 120/332 [02:27<05:21,  1.52s/it]\u001b[A\u001b[A\n",
      "\n",
      " 36%|███▋      | 121/332 [02:28<05:18,  1.51s/it]\u001b[A\u001b[A\n",
      "\n",
      " 37%|███▋      | 122/332 [02:30<05:16,  1.51s/it]\u001b[A\u001b[A\n",
      "\n",
      " 37%|███▋      | 123/332 [02:32<06:10,  1.77s/it]\u001b[A\u001b[A\n",
      "\n",
      " 37%|███▋      | 124/332 [02:34<05:52,  1.69s/it]\u001b[A\u001b[A\n",
      "\n",
      " 38%|███▊      | 126/332 [02:35<04:52,  1.42s/it]\u001b[A\u001b[A\n",
      "\n",
      " 38%|███▊      | 127/332 [02:37<04:55,  1.44s/it]\u001b[A\u001b[A\n",
      "\n",
      " 39%|███▊      | 128/332 [02:38<04:56,  1.45s/it]\u001b[A\u001b[A\n",
      "\n",
      " 39%|███▉      | 129/332 [02:40<04:59,  1.47s/it]\u001b[A\u001b[A\n",
      "\n",
      " 39%|███▉      | 130/332 [02:41<04:59,  1.49s/it]\u001b[A\u001b[A\n",
      "\n",
      " 39%|███▉      | 131/332 [02:43<04:59,  1.49s/it]\u001b[A\u001b[A\n",
      "\n",
      " 40%|███▉      | 132/332 [02:44<05:10,  1.55s/it]\u001b[A\u001b[A\n",
      "\n",
      " 40%|████      | 133/332 [02:46<05:04,  1.53s/it]\u001b[A\u001b[A\n",
      "\n",
      " 40%|████      | 134/332 [02:47<05:03,  1.53s/it]\u001b[A\u001b[A\n",
      "\n",
      " 41%|████      | 135/332 [02:49<05:00,  1.52s/it]\u001b[A\u001b[A\n",
      "\n",
      " 41%|████      | 136/332 [02:50<04:59,  1.53s/it]\u001b[A\u001b[A\n",
      "\n",
      " 41%|████▏     | 137/332 [02:52<04:59,  1.54s/it]\u001b[A\u001b[A\n",
      "\n",
      " 42%|████▏     | 138/332 [02:53<04:56,  1.53s/it]\u001b[A\u001b[A\n",
      "\n",
      " 42%|████▏     | 139/332 [02:55<04:54,  1.52s/it]\u001b[A\u001b[A\n",
      "\n",
      " 42%|████▏     | 140/332 [02:56<04:50,  1.51s/it]\u001b[A\u001b[A\n",
      "\n",
      " 42%|████▏     | 141/332 [02:58<04:47,  1.50s/it]\u001b[A\u001b[A\n",
      "\n",
      " 43%|████▎     | 142/332 [02:59<04:44,  1.50s/it]\u001b[A\u001b[A\n",
      "\n",
      " 43%|████▎     | 143/332 [03:01<04:43,  1.50s/it]\u001b[A\u001b[A\n",
      "\n",
      " 43%|████▎     | 144/332 [03:02<04:42,  1.50s/it]\u001b[A\u001b[A\n",
      "\n",
      " 44%|████▎     | 145/332 [03:04<04:41,  1.51s/it]\u001b[A\u001b[A\n",
      "\n",
      " 44%|████▍     | 146/332 [03:05<04:38,  1.50s/it]\u001b[A\u001b[A\n",
      "\n",
      " 44%|████▍     | 147/332 [03:07<04:36,  1.50s/it]\u001b[A\u001b[A\n",
      "\n",
      " 45%|████▍     | 148/332 [03:08<04:35,  1.50s/it]\u001b[A\u001b[A\n",
      "\n",
      " 45%|████▍     | 149/332 [03:10<04:33,  1.49s/it]\u001b[A\u001b[A\n",
      "\n",
      " 45%|████▌     | 150/332 [03:11<04:32,  1.49s/it]\u001b[A\u001b[A\n",
      "\n",
      " 45%|████▌     | 151/332 [03:13<04:31,  1.50s/it]\u001b[A\u001b[A\n",
      "\n",
      " 46%|████▌     | 152/332 [03:14<04:29,  1.50s/it]\u001b[A\u001b[A\n",
      "\n",
      " 46%|████▌     | 153/332 [03:16<04:28,  1.50s/it]\u001b[A\u001b[A\n",
      "\n",
      " 46%|████▋     | 154/332 [03:18<04:33,  1.53s/it]\u001b[A\u001b[A\n",
      "\n",
      " 47%|████▋     | 155/332 [03:19<04:30,  1.53s/it]\u001b[A\u001b[A\n",
      "\n",
      " 47%|████▋     | 156/332 [03:21<04:26,  1.52s/it]\u001b[A\u001b[A\n",
      "\n",
      " 47%|████▋     | 157/332 [03:22<04:23,  1.50s/it]\u001b[A\u001b[A\n",
      "\n",
      " 48%|████▊     | 158/332 [03:23<04:21,  1.50s/it]\u001b[A\u001b[A\n",
      "\n",
      " 48%|████▊     | 159/332 [03:25<04:19,  1.50s/it]\u001b[A\u001b[A\n",
      "\n",
      " 48%|████▊     | 160/332 [03:27<04:18,  1.51s/it]\u001b[A\u001b[A\n",
      "\n",
      " 48%|████▊     | 161/332 [03:28<04:17,  1.50s/it]\u001b[A\u001b[A\n",
      "\n",
      " 49%|████▉     | 162/332 [03:30<04:17,  1.51s/it]\u001b[A\u001b[A\n",
      "\n",
      " 49%|████▉     | 163/332 [03:31<04:14,  1.50s/it]\u001b[A\u001b[A\n",
      "\n",
      " 49%|████▉     | 164/332 [03:33<04:12,  1.50s/it]\u001b[A\u001b[A\n",
      "\n",
      " 50%|█████     | 166/332 [03:34<03:32,  1.28s/it]\u001b[A\u001b[A\n",
      "\n",
      " 50%|█████     | 167/332 [03:36<03:42,  1.35s/it]\u001b[A\u001b[A\n",
      "\n",
      " 51%|█████     | 170/332 [03:37<02:56,  1.09s/it]\u001b[A\u001b[A\n",
      "\n",
      " 52%|█████▏    | 171/332 [03:39<03:15,  1.22s/it]\u001b[A\u001b[A\n",
      "\n",
      " 52%|█████▏    | 172/332 [03:40<03:27,  1.29s/it]\u001b[A\u001b[A\n",
      "\n",
      " 53%|█████▎    | 176/332 [03:42<02:38,  1.02s/it]\u001b[A\u001b[A\n",
      "\n",
      " 53%|█████▎    | 177/332 [03:44<03:28,  1.35s/it]\u001b[A\u001b[A\n",
      "\n",
      " 54%|█████▍    | 179/332 [03:45<02:59,  1.17s/it]\u001b[A\u001b[A\n",
      "\n",
      " 54%|█████▍    | 180/332 [03:47<03:12,  1.26s/it]\u001b[A\u001b[A\n",
      "\n",
      " 55%|█████▍    | 181/332 [03:48<03:21,  1.34s/it]\u001b[A\u001b[A\n",
      "\n",
      " 55%|█████▍    | 182/332 [03:50<03:37,  1.45s/it]\u001b[A\u001b[A\n",
      "\n",
      " 55%|█████▌    | 184/332 [03:51<03:03,  1.24s/it]\u001b[A\u001b[A\n",
      "\n",
      " 56%|█████▌    | 185/332 [03:53<03:13,  1.32s/it]\u001b[A\u001b[A\n",
      "\n",
      " 56%|█████▌    | 186/332 [03:54<03:20,  1.38s/it]\u001b[A\u001b[A\n",
      "\n",
      " 56%|█████▋    | 187/332 [03:56<03:24,  1.41s/it]\u001b[A\u001b[A\n",
      "\n",
      " 57%|█████▋    | 188/332 [03:57<03:27,  1.44s/it]\u001b[A\u001b[A\n",
      "\n",
      " 57%|█████▋    | 189/332 [03:59<03:27,  1.45s/it]\u001b[A\u001b[A\n",
      "\n",
      " 57%|█████▋    | 190/332 [04:00<03:28,  1.47s/it]\u001b[A\u001b[A\n",
      "\n",
      " 58%|█████▊    | 191/332 [04:02<03:28,  1.48s/it]\u001b[A\u001b[A\n",
      "\n",
      " 58%|█████▊    | 192/332 [04:03<03:28,  1.49s/it]\u001b[A\u001b[A\n",
      "\n",
      " 58%|█████▊    | 193/332 [04:05<03:27,  1.49s/it]\u001b[A\u001b[A\n",
      "\n",
      " 59%|█████▊    | 195/332 [04:06<02:53,  1.27s/it]\u001b[A\u001b[A\n",
      "\n",
      " 59%|█████▉    | 196/332 [04:08<03:01,  1.34s/it]\u001b[A\u001b[A\n",
      "\n",
      " 59%|█████▉    | 197/332 [04:10<03:17,  1.46s/it]\u001b[A\u001b[A\n",
      "\n",
      " 60%|█████▉    | 198/332 [04:11<03:19,  1.49s/it]\u001b[A\u001b[A\n",
      "\n",
      " 60%|█████▉    | 199/332 [04:13<03:17,  1.49s/it]\u001b[A\u001b[A\n",
      "\n",
      " 60%|██████    | 200/332 [04:14<03:16,  1.49s/it]\u001b[A\u001b[A\n",
      "\n",
      " 61%|██████    | 201/332 [04:16<03:15,  1.49s/it]\u001b[A\u001b[A\n",
      "\n",
      " 61%|██████    | 202/332 [04:17<03:13,  1.49s/it]\u001b[A\u001b[A\n",
      "\n",
      " 61%|██████    | 203/332 [04:19<03:13,  1.50s/it]\u001b[A\u001b[A\n",
      "\n",
      " 61%|██████▏   | 204/332 [04:20<03:12,  1.50s/it]\u001b[A\u001b[A\n",
      "\n",
      " 62%|██████▏   | 205/332 [04:22<03:11,  1.50s/it]\u001b[A\u001b[A\n",
      "\n",
      " 62%|██████▏   | 206/332 [04:23<03:08,  1.50s/it]\u001b[A\u001b[A\n",
      "\n",
      " 62%|██████▏   | 207/332 [04:25<03:06,  1.49s/it]\u001b[A\u001b[A\n",
      "\n",
      " 63%|██████▎   | 208/332 [04:27<03:27,  1.67s/it]\u001b[A\u001b[A\n",
      "\n",
      " 63%|██████▎   | 209/332 [04:29<03:35,  1.75s/it]\u001b[A\u001b[A\n",
      "\n",
      " 63%|██████▎   | 210/332 [04:30<03:24,  1.68s/it]\u001b[A\u001b[A\n",
      "\n",
      " 64%|██████▎   | 211/332 [04:32<03:17,  1.63s/it]\u001b[A\u001b[A\n",
      "\n",
      " 64%|██████▍   | 212/332 [04:33<03:10,  1.59s/it]\u001b[A\u001b[A\n",
      "\n",
      " 64%|██████▍   | 213/332 [04:35<03:06,  1.57s/it]\u001b[A\u001b[A\n",
      "\n",
      " 64%|██████▍   | 214/332 [04:36<03:01,  1.54s/it]\u001b[A\u001b[A\n",
      "\n",
      " 65%|██████▍   | 215/332 [04:38<02:57,  1.52s/it]\u001b[A\u001b[A\n",
      "\n",
      " 65%|██████▌   | 216/332 [04:39<02:56,  1.52s/it]\u001b[A\u001b[A\n",
      "\n",
      " 65%|██████▌   | 217/332 [04:41<02:54,  1.52s/it]\u001b[A\u001b[A\n",
      "\n",
      " 66%|██████▌   | 218/332 [04:42<02:53,  1.52s/it]\u001b[A\u001b[A\n",
      "\n",
      " 66%|██████▌   | 219/332 [04:44<02:51,  1.52s/it]\u001b[A\u001b[A\n",
      "\n",
      " 66%|██████▋   | 220/332 [04:45<02:49,  1.51s/it]\u001b[A\u001b[A\n",
      "\n",
      " 67%|██████▋   | 221/332 [04:47<02:47,  1.51s/it]\u001b[A\u001b[A\n",
      "\n",
      " 67%|██████▋   | 222/332 [04:48<02:45,  1.51s/it]\u001b[A\u001b[A\n",
      "\n",
      " 67%|██████▋   | 223/332 [04:50<02:44,  1.51s/it]\u001b[A\u001b[A\n",
      "\n",
      " 67%|██████▋   | 224/332 [04:52<03:11,  1.77s/it]\u001b[A\u001b[A\n",
      "\n",
      " 68%|██████▊   | 225/332 [04:54<03:01,  1.70s/it]\u001b[A\u001b[A\n",
      "\n",
      " 68%|██████▊   | 226/332 [04:55<02:53,  1.64s/it]\u001b[A\u001b[A\n",
      "\n",
      " 68%|██████▊   | 227/332 [04:57<02:47,  1.59s/it]\u001b[A\u001b[A\n",
      "\n",
      " 69%|██████▊   | 228/332 [04:58<02:44,  1.58s/it]\u001b[A\u001b[A\n",
      "\n",
      " 69%|██████▉   | 229/332 [05:00<02:40,  1.56s/it]\u001b[A\u001b[A\n",
      "\n",
      " 69%|██████▉   | 230/332 [05:01<02:39,  1.56s/it]\u001b[A\u001b[A\n",
      "\n",
      " 70%|██████▉   | 231/332 [05:03<02:35,  1.54s/it]\u001b[A\u001b[A\n",
      "\n",
      " 70%|██████▉   | 232/332 [05:04<02:32,  1.52s/it]\u001b[A\u001b[A\n",
      "\n",
      " 70%|███████   | 233/332 [05:06<02:29,  1.51s/it]\u001b[A\u001b[A\n",
      "\n",
      " 70%|███████   | 234/332 [05:07<02:26,  1.50s/it]\u001b[A\u001b[A\n",
      "\n",
      " 71%|███████   | 235/332 [05:09<02:24,  1.49s/it]\u001b[A\u001b[A\n",
      "\n",
      " 71%|███████▏  | 237/332 [05:10<02:00,  1.27s/it]\u001b[A\u001b[A\n",
      "\n",
      " 72%|███████▏  | 239/332 [05:12<01:44,  1.12s/it]\u001b[A\u001b[A\n",
      "\n",
      " 72%|███████▏  | 240/332 [05:13<01:54,  1.25s/it]\u001b[A\u001b[A\n",
      "\n",
      " 73%|███████▎  | 242/332 [05:15<01:38,  1.10s/it]\u001b[A\u001b[A\n",
      "\n",
      " 73%|███████▎  | 243/332 [05:16<01:48,  1.21s/it]\u001b[A\u001b[A\n",
      "\n",
      " 73%|███████▎  | 244/332 [05:18<01:55,  1.31s/it]\u001b[A\u001b[A\n",
      "\n",
      " 74%|███████▍  | 245/332 [05:19<01:58,  1.37s/it]\u001b[A\u001b[A\n",
      "\n",
      " 74%|███████▍  | 246/332 [05:21<02:00,  1.40s/it]\u001b[A\u001b[A\n",
      "\n",
      " 74%|███████▍  | 247/332 [05:22<02:02,  1.44s/it]\u001b[A\u001b[A\n",
      "\n",
      " 75%|███████▍  | 248/332 [05:24<02:02,  1.46s/it]\u001b[A\u001b[A\n",
      "\n",
      " 75%|███████▌  | 250/332 [05:25<01:42,  1.25s/it]\u001b[A\u001b[A\n",
      "\n",
      " 76%|███████▌  | 251/332 [05:27<01:47,  1.32s/it]\u001b[A\u001b[A\n",
      "\n",
      " 76%|███████▌  | 252/332 [05:28<01:49,  1.37s/it]\u001b[A\u001b[A\n",
      "\n",
      " 76%|███████▌  | 253/332 [05:30<01:51,  1.42s/it]\u001b[A\u001b[A\n",
      "\n",
      " 77%|███████▋  | 255/332 [05:31<01:33,  1.21s/it]\u001b[A\u001b[A\n",
      "\n",
      " 77%|███████▋  | 256/332 [05:33<01:38,  1.30s/it]\u001b[A\u001b[A\n",
      "\n",
      " 77%|███████▋  | 257/332 [05:34<01:42,  1.36s/it]\u001b[A\u001b[A\n",
      "\n",
      " 78%|███████▊  | 258/332 [05:36<01:44,  1.41s/it]\u001b[A\u001b[A\n",
      "\n",
      " 78%|███████▊  | 259/332 [05:37<01:44,  1.44s/it]\u001b[A\u001b[A\n",
      "\n",
      " 78%|███████▊  | 260/332 [05:39<01:45,  1.46s/it]\u001b[A\u001b[A\n",
      "\n",
      " 79%|███████▊  | 261/332 [05:40<01:45,  1.48s/it]\u001b[A\u001b[A\n",
      "\n",
      " 79%|███████▉  | 262/332 [05:42<01:43,  1.48s/it]\u001b[A\u001b[A\n",
      "\n",
      " 79%|███████▉  | 263/332 [05:43<01:43,  1.50s/it]\u001b[A\u001b[A\n",
      "\n",
      " 80%|███████▉  | 264/332 [05:45<01:42,  1.51s/it]\u001b[A\u001b[A\n",
      "\n",
      " 80%|███████▉  | 265/332 [05:46<01:41,  1.51s/it]\u001b[A\u001b[A\n",
      "\n",
      " 80%|████████  | 266/332 [05:48<01:39,  1.50s/it]\u001b[A\u001b[A\n",
      "\n",
      " 80%|████████  | 267/332 [05:49<01:38,  1.51s/it]\u001b[A\u001b[A\n",
      "\n",
      " 81%|████████  | 268/332 [05:51<01:36,  1.51s/it]\u001b[A\u001b[A\n",
      "\n",
      " 81%|████████  | 269/332 [05:52<01:35,  1.51s/it]\u001b[A\u001b[A\n",
      "\n",
      " 81%|████████▏ | 270/332 [05:54<01:34,  1.52s/it]\u001b[A\u001b[A\n",
      "\n",
      " 82%|████████▏ | 271/332 [05:56<01:34,  1.54s/it]\u001b[A\u001b[A\n",
      "\n",
      " 82%|████████▏ | 272/332 [05:57<01:31,  1.53s/it]\u001b[A\u001b[A\n",
      "\n",
      " 82%|████████▏ | 273/332 [05:59<01:29,  1.52s/it]\u001b[A\u001b[A\n",
      "\n",
      " 83%|████████▎ | 274/332 [06:00<01:27,  1.51s/it]\u001b[A\u001b[A\n",
      "\n",
      " 83%|████████▎ | 275/332 [06:02<01:40,  1.76s/it]\u001b[A\u001b[A\n",
      "\n",
      " 83%|████████▎ | 277/332 [06:04<01:20,  1.46s/it]\u001b[A\u001b[A\n",
      "\n",
      " 84%|████████▎ | 278/332 [06:05<01:19,  1.48s/it]\u001b[A\u001b[A\n",
      "\n",
      " 84%|████████▍ | 279/332 [06:07<01:18,  1.49s/it]\u001b[A\u001b[A\n",
      "\n",
      " 84%|████████▍ | 280/332 [06:08<01:17,  1.49s/it]\u001b[A\u001b[A\n",
      "\n",
      " 85%|████████▍ | 281/332 [06:10<01:16,  1.49s/it]\u001b[A\u001b[A\n",
      "\n",
      " 85%|████████▍ | 282/332 [06:11<01:15,  1.50s/it]\u001b[A\u001b[A\n",
      "\n",
      " 85%|████████▌ | 283/332 [06:13<01:13,  1.50s/it]\u001b[A\u001b[A\n",
      "\n",
      " 86%|████████▌ | 284/332 [06:14<01:12,  1.51s/it]\u001b[A\u001b[A\n",
      "\n",
      " 86%|████████▌ | 285/332 [06:16<01:10,  1.51s/it]\u001b[A\u001b[A\n",
      "\n",
      " 86%|████████▌ | 286/332 [06:17<01:09,  1.52s/it]\u001b[A\u001b[A\n",
      "\n",
      " 86%|████████▋ | 287/332 [06:19<01:08,  1.51s/it]\u001b[A\u001b[A\n",
      "\n",
      " 87%|████████▋ | 288/332 [06:21<01:06,  1.52s/it]\u001b[A\u001b[A\n",
      "\n",
      " 87%|████████▋ | 289/332 [06:22<01:05,  1.51s/it]\u001b[A\u001b[A\n",
      "\n",
      " 87%|████████▋ | 290/332 [06:24<01:03,  1.51s/it]\u001b[A\u001b[A\n",
      "\n",
      " 88%|████████▊ | 291/332 [06:25<01:01,  1.50s/it]\u001b[A\u001b[A\n",
      "\n",
      " 88%|████████▊ | 293/332 [06:27<00:49,  1.28s/it]\u001b[A\u001b[A\n",
      "\n",
      " 89%|████████▊ | 294/332 [06:28<00:51,  1.35s/it]\u001b[A\u001b[A\n",
      "\n",
      " 90%|█████████ | 299/332 [06:30<00:34,  1.03s/it]\u001b[A\u001b[A\n",
      "\n",
      " 91%|█████████ | 301/332 [06:31<00:29,  1.05it/s]\u001b[A\u001b[A\n",
      "\n",
      " 91%|█████████ | 302/332 [06:33<00:33,  1.12s/it]\u001b[A\u001b[A\n",
      "\n",
      " 91%|█████████▏| 303/332 [06:34<00:35,  1.24s/it]\u001b[A\u001b[A\n",
      "\n",
      " 92%|█████████▏| 305/332 [06:36<00:29,  1.09s/it]\u001b[A\u001b[A\n",
      "\n",
      " 92%|█████████▏| 306/332 [06:37<00:31,  1.22s/it]\u001b[A\u001b[A\n",
      "\n",
      " 92%|█████████▏| 307/332 [06:39<00:32,  1.31s/it]\u001b[A\u001b[A\n",
      "\n",
      " 93%|█████████▎| 308/332 [06:40<00:32,  1.37s/it]\u001b[A\u001b[A\n",
      "\n",
      " 93%|█████████▎| 309/332 [06:42<00:32,  1.42s/it]\u001b[A\u001b[A\n",
      "\n",
      " 93%|█████████▎| 310/332 [06:43<00:31,  1.45s/it]\u001b[A\u001b[A\n",
      "\n",
      " 94%|█████████▎| 311/332 [06:45<00:30,  1.46s/it]\u001b[A\u001b[A\n",
      "\n",
      " 94%|█████████▍| 312/332 [06:46<00:29,  1.49s/it]\u001b[A\u001b[A\n",
      "\n",
      " 94%|█████████▍| 313/332 [06:48<00:28,  1.49s/it]\u001b[A\u001b[A\n",
      "\n",
      " 95%|█████████▍| 314/332 [06:49<00:26,  1.50s/it]\u001b[A\u001b[A\n",
      "\n",
      " 95%|█████████▍| 315/332 [06:51<00:25,  1.50s/it]\u001b[A\u001b[A\n",
      "\n",
      " 95%|█████████▌| 317/332 [06:52<00:19,  1.27s/it]\u001b[A\u001b[A\n",
      "\n",
      " 96%|█████████▌| 318/332 [06:54<00:18,  1.35s/it]\u001b[A\u001b[A\n",
      "\n",
      " 96%|█████████▌| 319/332 [06:55<00:18,  1.41s/it]\u001b[A\u001b[A\n",
      "\n",
      " 96%|█████████▋| 320/332 [06:57<00:17,  1.44s/it]\u001b[A\u001b[A\n",
      "\n",
      " 97%|█████████▋| 321/332 [06:58<00:15,  1.45s/it]\u001b[A\u001b[A\n",
      "\n",
      " 97%|█████████▋| 322/332 [07:00<00:14,  1.46s/it]\u001b[A\u001b[A\n",
      "\n",
      " 97%|█████████▋| 323/332 [07:01<00:13,  1.47s/it]\u001b[A\u001b[A\n",
      "\n",
      " 98%|█████████▊| 324/332 [07:03<00:11,  1.47s/it]\u001b[A\u001b[A\n",
      "\n",
      " 98%|█████████▊| 325/332 [07:04<00:10,  1.48s/it]\u001b[A\u001b[A\n",
      "\n",
      " 98%|█████████▊| 326/332 [07:06<00:08,  1.49s/it]\u001b[A\u001b[A\n",
      "\n",
      " 98%|█████████▊| 327/332 [07:07<00:07,  1.49s/it]\u001b[A\u001b[A\n",
      "\n",
      " 99%|█████████▉| 328/332 [07:09<00:06,  1.53s/it]\u001b[A\u001b[A\n",
      "\n",
      " 99%|█████████▉| 329/332 [07:10<00:04,  1.53s/it]\u001b[A\u001b[A\n",
      "\n",
      " 99%|█████████▉| 330/332 [07:12<00:03,  1.52s/it]\u001b[A\u001b[A\n",
      "\n",
      "100%|█████████▉| 331/332 [07:13<00:01,  1.52s/it]\u001b[A\u001b[A\n",
      "\n",
      "100%|██████████| 332/332 [07:15<00:00,  1.51s/it]\u001b[A\u001b[A"
     ]
    }
   ],
   "source": [
    "response = location[geo_mask].str.replace('\\n', ' ').progress_apply(vectorized_geocode)"
   ]
  },
  {
   "cell_type": "code",
   "execution_count": 149,
   "metadata": {},
   "outputs": [
    {
     "data": {
      "text/plain": [
       "{'lat': '55.670249',\n",
       " 'lon': '10.3333283',\n",
       " 'importance': 0.932215312866484,\n",
       " 'display_name': 'Denmark'}"
      ]
     },
     "execution_count": 149,
     "metadata": {},
     "output_type": "execute_result"
    }
   ],
   "source": [
    "response.iloc[0]"
   ]
  },
  {
   "cell_type": "code",
   "execution_count": 150,
   "metadata": {},
   "outputs": [
    {
     "data": {
      "text/plain": [
       "'Denmark'"
      ]
     },
     "execution_count": 150,
     "metadata": {},
     "output_type": "execute_result"
    }
   ],
   "source": [
    "battles.loc[geo_mask, 'Location'].iloc[0]"
   ]
  },
  {
   "cell_type": "code",
   "execution_count": 151,
   "metadata": {},
   "outputs": [],
   "source": [
    "geo_df = pd.DataFrame(response.tolist(), index = response.index)\n",
    "geo_df.rename(columns={'lat': 'Lattitude', 'lon': ' Longitude'}, inplace=True)"
   ]
  },
  {
   "cell_type": "code",
   "execution_count": 152,
   "metadata": {},
   "outputs": [],
   "source": [
    "rmask = geo_df['importance'].isnull()  # still no location"
   ]
  },
  {
   "cell_type": "code",
   "execution_count": 153,
   "metadata": {},
   "outputs": [
    {
     "data": {
      "text/plain": [
       "'30.0%'"
      ]
     },
     "execution_count": 153,
     "metadata": {},
     "output_type": "execute_result"
    }
   ],
   "source": [
    "f'{rmask.sum() / len(battles):.1%}'"
   ]
  },
  {
   "cell_type": "code",
   "execution_count": 154,
   "metadata": {},
   "outputs": [
    {
     "data": {
      "text/plain": [
       "3                                   drøbak sound, norway\n",
       "4             dombås area in dovre, gudbrandsdal, norway\n",
       "5      åndalsnes and points to the north and east, no...\n",
       "11     maastricht, netherlands, and the surrounding area\n",
       "33                                 franco-italian border\n",
       "36                  southern england and english channel\n",
       "37                   london, england and english channel\n",
       "45                                  berlin, nazi germany\n",
       "56     verrières ridge, 8 km (5.0 mi) south of caen, ...\n",
       "57     verrières ridge (8 km (5 miles) south of caen)...\n",
       "67                     mont ormel, northeast of chambois\n",
       "71                           paris and outskirts, france\n",
       "76              off la ciotat, france, mediterranean sea\n",
       "78     along and around the siegfried line, (france, ...\n",
       "94                      rur valley and environs, germany\n",
       "105                  belgium, the netherlands and france\n",
       "107    alsace and lorraine, france and rhineland-pala...\n",
       "109        limburg (netherlands) and heinsberg (germany)\n",
       "114         75 km sector between saarbrücken and hagenau\n",
       "126    off the river plate estuary in argentina and u...\n",
       "132                     atlantic ocean, south of iceland\n",
       "136                   off north carolina, atlantic ocean\n",
       "138             gulf of st. lawrence, st. lawrence river\n",
       "139                   off recife, brazil, atlantic ocean\n",
       "141       off casablanca, french morocco, atlantic ocean\n",
       "144                              bay of biscay, atlantic\n",
       "147               off cape verde islands, atlantic ocean\n",
       "158                               beijing-hankou railway\n",
       "159                                tianjin–pukou railway\n",
       "161                             niangzi pass and taiyuan\n",
       "                             ...                        \n",
       "540                      sunda strait, dutch east indies\n",
       "541                              java, dutch east indies\n",
       "544           rabaul, new britainterritory of new guinea\n",
       "550    salamaua–lae area, morobe province, territory ...\n",
       "551           tulagi and gavutu islands, solomon islands\n",
       "552    coral sea, between australia, new guinea, and ...\n",
       "556                        milne bay, territory of papua\n",
       "557             tulagi and gavutu in the solomon islands\n",
       "559       butaritari (makin island) in the pacific ocean\n",
       "561               north of santa isabel, solomon islands\n",
       "564          cape esperance and savo island, guadalcanal\n",
       "571                        off tassafaronga, guadalcanal\n",
       "573       rennell island, solomon islands, pacific ocean\n",
       "577                         wau, territory of new guinea\n",
       "578                 bismarck sea, in the vicinity of lae\n",
       "579    salamaua–lae area, morobe province, territory ...\n",
       "580            finisterre range, territory of new guinea\n",
       "581              huon peninsula, territory of new guinea\n",
       "583                 new britain, territory of new guinea\n",
       "586    territory of new guinea and netherlands new gu...\n",
       "587    aitape/wewak/sepik region, territory of new gu...\n",
       "589                              off komandorski islands\n",
       "590        attu, aleutian islands, alaska, united states\n",
       "592                    bougainville in the south pacific\n",
       "599    empress augusta bay, bougainville, territory o...\n",
       "602          betio island, tarawa atoll, gilbert islands\n",
       "611                                angaur, palau islands\n",
       "614         morotai, off north halmahera, maluku islands\n",
       "621                            iwo jima, volcano islands\n",
       "623                  balikpapan, netherlands east indies\n",
       "Name: Location, Length: 145, dtype: object"
      ]
     },
     "execution_count": 154,
     "metadata": {},
     "output_type": "execute_result"
    }
   ],
   "source": [
    "location[geo_mask].loc[rmask]"
   ]
  },
  {
   "cell_type": "markdown",
   "metadata": {},
   "source": [
    "## Time"
   ]
  },
  {
   "cell_type": "code",
   "execution_count": 155,
   "metadata": {},
   "outputs": [],
   "source": [
    "# pd.to_datetime('September 1939')"
   ]
  },
  {
   "cell_type": "code",
   "execution_count": 156,
   "metadata": {},
   "outputs": [
    {
     "data": {
      "text/plain": [
       "'16 November\\xa0– 16 December 1944'"
      ]
     },
     "execution_count": 156,
     "metadata": {},
     "output_type": "execute_result"
    }
   ],
   "source": [
    "battles.loc[94, 'Date']"
   ]
  },
  {
   "cell_type": "code",
   "execution_count": 157,
   "metadata": {},
   "outputs": [],
   "source": [
    "d = ('January', 'February', 'March', 'April', 'May', \n",
    "     'June', \"July\",' August', 'September', 'October', 'November', 'December')\n",
    "\n",
    "month_pattern = r'(' + \"|\".join(d) + ')'"
   ]
  },
  {
   "cell_type": "code",
   "execution_count": 158,
   "metadata": {},
   "outputs": [],
   "source": [
    "year_pattern = r'(19\\d\\d)'"
   ]
  },
  {
   "cell_type": "code",
   "execution_count": 159,
   "metadata": {},
   "outputs": [],
   "source": [
    "year_extracted = battles['Date'].str.extractall(year_pattern).unstack()"
   ]
  },
  {
   "cell_type": "code",
   "execution_count": 160,
   "metadata": {},
   "outputs": [
    {
     "data": {
      "text/html": [
       "<div>\n",
       "<style scoped>\n",
       "    .dataframe tbody tr th:only-of-type {\n",
       "        vertical-align: middle;\n",
       "    }\n",
       "\n",
       "    .dataframe tbody tr th {\n",
       "        vertical-align: top;\n",
       "    }\n",
       "\n",
       "    .dataframe thead tr th {\n",
       "        text-align: left;\n",
       "    }\n",
       "</style>\n",
       "<table border=\"1\" class=\"dataframe\">\n",
       "  <thead>\n",
       "    <tr>\n",
       "      <th></th>\n",
       "      <th colspan=\"4\" halign=\"left\">0</th>\n",
       "    </tr>\n",
       "    <tr>\n",
       "      <th>match</th>\n",
       "      <th>0</th>\n",
       "      <th>1</th>\n",
       "      <th>2</th>\n",
       "      <th>3</th>\n",
       "    </tr>\n",
       "  </thead>\n",
       "  <tbody>\n",
       "    <tr>\n",
       "      <th>40</th>\n",
       "      <td>1940</td>\n",
       "      <td>1941</td>\n",
       "      <td>1940</td>\n",
       "      <td>1941</td>\n",
       "    </tr>\n",
       "    <tr>\n",
       "      <th>107</th>\n",
       "      <td>1944</td>\n",
       "      <td>1945</td>\n",
       "      <td>1944</td>\n",
       "      <td>1945</td>\n",
       "    </tr>\n",
       "    <tr>\n",
       "      <th>193</th>\n",
       "      <td>1943</td>\n",
       "      <td>1943</td>\n",
       "      <td>1943</td>\n",
       "      <td>1943</td>\n",
       "    </tr>\n",
       "    <tr>\n",
       "      <th>299</th>\n",
       "      <td>1943</td>\n",
       "      <td>1943</td>\n",
       "      <td>1943</td>\n",
       "      <td>1943</td>\n",
       "    </tr>\n",
       "    <tr>\n",
       "      <th>538</th>\n",
       "      <td>1942</td>\n",
       "      <td>1943</td>\n",
       "      <td>1942</td>\n",
       "      <td>1943</td>\n",
       "    </tr>\n",
       "    <tr>\n",
       "      <th>556</th>\n",
       "      <td>1942</td>\n",
       "      <td>1942</td>\n",
       "      <td>1942</td>\n",
       "      <td>1942</td>\n",
       "    </tr>\n",
       "    <tr>\n",
       "      <th>585</th>\n",
       "      <td>1944</td>\n",
       "      <td>1944</td>\n",
       "      <td>1944</td>\n",
       "      <td>1944</td>\n",
       "    </tr>\n",
       "  </tbody>\n",
       "</table>\n",
       "</div>"
      ],
      "text/plain": [
       "          0                  \n",
       "match     0     1     2     3\n",
       "40     1940  1941  1940  1941\n",
       "107    1944  1945  1944  1945\n",
       "193    1943  1943  1943  1943\n",
       "299    1943  1943  1943  1943\n",
       "538    1942  1943  1942  1943\n",
       "556    1942  1942  1942  1942\n",
       "585    1944  1944  1944  1944"
      ]
     },
     "execution_count": 160,
     "metadata": {},
     "output_type": "execute_result"
    }
   ],
   "source": [
    "# len(d.iloc[:, -1].notnull())\n",
    "year_extracted[year_extracted.iloc[:, -1].notnull()]"
   ]
  },
  {
   "cell_type": "code",
   "execution_count": 161,
   "metadata": {},
   "outputs": [],
   "source": [
    "# d[d.iloc[:, -1].notnull()]"
   ]
  },
  {
   "cell_type": "code",
   "execution_count": 162,
   "metadata": {},
   "outputs": [
    {
     "data": {
      "text/plain": [
       "'16 November\\xa0– 16 December 1944'"
      ]
     },
     "execution_count": 162,
     "metadata": {},
     "output_type": "execute_result"
    }
   ],
   "source": [
    "battles.loc[94, 'Date']"
   ]
  },
  {
   "cell_type": "code",
   "execution_count": 163,
   "metadata": {},
   "outputs": [],
   "source": [
    "year_extracted = year_extracted.iloc[:, :2]"
   ]
  },
  {
   "cell_type": "code",
   "execution_count": 164,
   "metadata": {},
   "outputs": [
    {
     "data": {
      "text/html": [
       "<div>\n",
       "<style scoped>\n",
       "    .dataframe tbody tr th:only-of-type {\n",
       "        vertical-align: middle;\n",
       "    }\n",
       "\n",
       "    .dataframe tbody tr th {\n",
       "        vertical-align: top;\n",
       "    }\n",
       "\n",
       "    .dataframe thead tr th {\n",
       "        text-align: left;\n",
       "    }\n",
       "</style>\n",
       "<table border=\"1\" class=\"dataframe\">\n",
       "  <thead>\n",
       "    <tr>\n",
       "      <th></th>\n",
       "      <th colspan=\"2\" halign=\"left\">0</th>\n",
       "    </tr>\n",
       "    <tr>\n",
       "      <th>match</th>\n",
       "      <th>0</th>\n",
       "      <th>1</th>\n",
       "    </tr>\n",
       "  </thead>\n",
       "  <tbody>\n",
       "    <tr>\n",
       "      <th>0</th>\n",
       "      <td>1939</td>\n",
       "      <td>1939</td>\n",
       "    </tr>\n",
       "    <tr>\n",
       "      <th>1</th>\n",
       "      <td>1940</td>\n",
       "      <td>NaN</td>\n",
       "    </tr>\n",
       "    <tr>\n",
       "      <th>2</th>\n",
       "      <td>1940</td>\n",
       "      <td>NaN</td>\n",
       "    </tr>\n",
       "    <tr>\n",
       "      <th>3</th>\n",
       "      <td>1940</td>\n",
       "      <td>NaN</td>\n",
       "    </tr>\n",
       "    <tr>\n",
       "      <th>4</th>\n",
       "      <td>1940</td>\n",
       "      <td>NaN</td>\n",
       "    </tr>\n",
       "    <tr>\n",
       "      <th>5</th>\n",
       "      <td>1940</td>\n",
       "      <td>NaN</td>\n",
       "    </tr>\n",
       "    <tr>\n",
       "      <th>8</th>\n",
       "      <td>1940</td>\n",
       "      <td>NaN</td>\n",
       "    </tr>\n",
       "    <tr>\n",
       "      <th>9</th>\n",
       "      <td>1940</td>\n",
       "      <td>NaN</td>\n",
       "    </tr>\n",
       "    <tr>\n",
       "      <th>10</th>\n",
       "      <td>1940</td>\n",
       "      <td>NaN</td>\n",
       "    </tr>\n",
       "    <tr>\n",
       "      <th>11</th>\n",
       "      <td>1940</td>\n",
       "      <td>NaN</td>\n",
       "    </tr>\n",
       "  </tbody>\n",
       "</table>\n",
       "</div>"
      ],
      "text/plain": [
       "          0      \n",
       "match     0     1\n",
       "0      1939  1939\n",
       "1      1940   NaN\n",
       "2      1940   NaN\n",
       "3      1940   NaN\n",
       "4      1940   NaN\n",
       "5      1940   NaN\n",
       "8      1940   NaN\n",
       "9      1940   NaN\n",
       "10     1940   NaN\n",
       "11     1940   NaN"
      ]
     },
     "execution_count": 164,
     "metadata": {},
     "output_type": "execute_result"
    }
   ],
   "source": [
    "year_extracted.head(10)"
   ]
  },
  {
   "cell_type": "code",
   "execution_count": 165,
   "metadata": {},
   "outputs": [],
   "source": [
    "year_extracted.iloc[:, 1] = year_extracted.iloc[:, 1].fillna(year_extracted.iloc[:, 0])"
   ]
  },
  {
   "cell_type": "code",
   "execution_count": 166,
   "metadata": {},
   "outputs": [],
   "source": [
    "month_extracted = battles['Date'].str.extractall(month_pattern).unstack()"
   ]
  },
  {
   "cell_type": "code",
   "execution_count": 167,
   "metadata": {},
   "outputs": [],
   "source": [
    "for i in range(2, month_extracted.shape[1]+1):\n",
    "    month_extracted.iloc[:, -1].fillna(month_extracted.iloc[:, -i], inplace=True)"
   ]
  },
  {
   "cell_type": "code",
   "execution_count": 168,
   "metadata": {},
   "outputs": [],
   "source": [
    "month_extracted = month_extracted.iloc[:, [0, -1]]"
   ]
  },
  {
   "cell_type": "code",
   "execution_count": 169,
   "metadata": {},
   "outputs": [
    {
     "name": "stderr",
     "output_type": "stream",
     "text": [
      "/Users/philippk/anaconda3/envs/packt/lib/python3.7/site-packages/pandas/core/indexing.py:1027: FutureWarning: \n",
      "Passing list-likes to .loc or [] with any missing label will raise\n",
      "KeyError in the future, you can use .reindex() as an alternative.\n",
      "\n",
      "See the documentation here:\n",
      "https://pandas.pydata.org/pandas-docs/stable/indexing.html#deprecate-loc-reindex-listlike\n",
      "  return getattr(section, self.name)[new_key]\n"
     ]
    }
   ],
   "source": [
    "year_extracted.columns = month_extracted.columns = ['start', 'end']\n",
    "I = battles.index\n",
    "cols = 'start', 'end'\n",
    "\n",
    "for col in cols:\n",
    "    battles[col] = pd.to_datetime(month_extracted.loc[I, col] + ' ' + year_extracted.loc[I, col])"
   ]
  },
  {
   "cell_type": "markdown",
   "metadata": {},
   "source": [
    "# Sides Swap"
   ]
  },
  {
   "cell_type": "code",
   "execution_count": 170,
   "metadata": {},
   "outputs": [],
   "source": [
    "words = ['Germany', 'Italy', 'Estonian conscripts']"
   ]
  },
  {
   "cell_type": "code",
   "execution_count": 171,
   "metadata": {},
   "outputs": [],
   "source": [
    "for word in words:\n",
    "    mask = battles['Belligerents.allies'].fillna('').str.contains(word)\n",
    "    axis_party = battles.loc[mask, ['Belligerents.allies', 'Casualties and losses.allies']].copy()\n",
    "    battles.loc[mask, ['Belligerents.allies', 'Casualties and losses.allies']] = battles.loc[mask, ['Belligerents.axis', 'Casualties and losses.axis']].values\n",
    "    battles.loc[mask, ['Belligerents.axis', 'Casualties and losses.axis']] = axis_party.values"
   ]
  },
  {
   "cell_type": "markdown",
   "metadata": {},
   "source": [
    "## Casualties"
   ]
  },
  {
   "cell_type": "code",
   "execution_count": 172,
   "metadata": {},
   "outputs": [
    {
     "data": {
      "text/plain": [
       "'2,000 casualties [1] 4 tanks destroyed'"
      ]
     },
     "execution_count": 172,
     "metadata": {},
     "output_type": "execute_result"
    }
   ],
   "source": [
    "battles['Casualties and losses.allies'].iloc[0]"
   ]
  },
  {
   "cell_type": "code",
   "execution_count": 173,
   "metadata": {},
   "outputs": [],
   "source": [
    "digit_pattern = '([\\d|\\,|\\.]+)(?:\\[\\d+\\])?\\+?\\s*(?:{words})'\n",
    "\n",
    "keywords = { 'killed': ['men', 'dead', 'killed', 'casualties', 'kia'], \n",
    "             'wounded': ['wounded', 'sick', 'injured'], \n",
    "             'captured': ['captured', 'prisoners'],\n",
    "             'tanks': ['tank', 'panzer'],\n",
    "             'airplane': ['airplane', 'aircraft'],\n",
    "             'guns': ['artillery', 'gun', 'self propelled guns', 'field-guns', 'anti-tank guns'],\n",
    "             'ships': ['warships', 'boats', 'destroyer', 'minelayer'],\n",
    "             'submarines': ['submarines']\n",
    "}\n",
    "\n",
    "only_digits = '([\\d|\\,|\\.]+)\\Z'"
   ]
  },
  {
   "cell_type": "code",
   "execution_count": 174,
   "metadata": {},
   "outputs": [],
   "source": [
    "# column[column.fillna('').str.match(only_digits)].str.extract(only_digits)"
   ]
  },
  {
   "cell_type": "code",
   "execution_count": 175,
   "metadata": {},
   "outputs": [],
   "source": [
    "def _shy_convert_numeric(v):\n",
    "    if pd.isnull(v) or v in (',', '.'):\n",
    "        return pd.np.nan\n",
    "    \n",
    "    return int(v.replace(',', '').replace('.', ''))\n",
    "    "
   ]
  },
  {
   "cell_type": "code",
   "execution_count": 176,
   "metadata": {},
   "outputs": [
    {
     "name": "stdout",
     "output_type": "stream",
     "text": [
      "([\\d|\\,|\\.]+)(?:\\[\\d+\\])?\\+?\\s*(?:men|dead|killed|casualties|kia)\n",
      "([\\d|\\,|\\.]+)(?:\\[\\d+\\])?\\+?\\s*(?:wounded|sick|injured)\n",
      "([\\d|\\,|\\.]+)(?:\\[\\d+\\])?\\+?\\s*(?:captured|prisoners)\n",
      "([\\d|\\,|\\.]+)(?:\\[\\d+\\])?\\+?\\s*(?:tank|panzer)\n",
      "([\\d|\\,|\\.]+)(?:\\[\\d+\\])?\\+?\\s*(?:airplane|aircraft)\n",
      "([\\d|\\,|\\.]+)(?:\\[\\d+\\])?\\+?\\s*(?:artillery|gun|self propelled guns|field-guns|anti-tank guns)\n",
      "([\\d|\\,|\\.]+)(?:\\[\\d+\\])?\\+?\\s*(?:warships|boats|destroyer|minelayer)\n",
      "([\\d|\\,|\\.]+)(?:\\[\\d+\\])?\\+?\\s*(?:submarines)\n",
      "([\\d|\\,|\\.]+)(?:\\[\\d+\\])?\\+?\\s*(?:men|dead|killed|casualties|kia)\n",
      "([\\d|\\,|\\.]+)(?:\\[\\d+\\])?\\+?\\s*(?:wounded|sick|injured)\n",
      "([\\d|\\,|\\.]+)(?:\\[\\d+\\])?\\+?\\s*(?:captured|prisoners)\n",
      "([\\d|\\,|\\.]+)(?:\\[\\d+\\])?\\+?\\s*(?:tank|panzer)\n",
      "([\\d|\\,|\\.]+)(?:\\[\\d+\\])?\\+?\\s*(?:airplane|aircraft)\n",
      "([\\d|\\,|\\.]+)(?:\\[\\d+\\])?\\+?\\s*(?:artillery|gun|self propelled guns|field-guns|anti-tank guns)\n",
      "([\\d|\\,|\\.]+)(?:\\[\\d+\\])?\\+?\\s*(?:warships|boats|destroyer|minelayer)\n",
      "([\\d|\\,|\\.]+)(?:\\[\\d+\\])?\\+?\\s*(?:submarines)\n"
     ]
    }
   ],
   "source": [
    "results = {\n",
    "'allies' : pd.DataFrame(index=battles.index, columns=keywords.keys()),  # empty dataframes with the same index\n",
    "'axis' : pd.DataFrame(index=battles.index, columns=keywords.keys())\n",
    "}\n",
    "\n",
    "for name, edf in results.items():\n",
    "    column = battles[f'Casualties and losses.{name}']\n",
    "    for tp, keys in keywords.items():\n",
    "        pattern = digit_pattern.format(words=\"|\".join(keys))\n",
    "        print(pattern)\n",
    "        extracted = column.str.lower().str.extractall(pattern).unstack()\n",
    "        values = extracted.applymap(_shy_convert_numeric)\n",
    "#         if tp == 'killed':\n",
    "#             mask values.iloc[:, 0].notnull()\n",
    "        edf[tp] = values.min(1)\n",
    "    results[name] = edf.fillna(0).astype(int)\n",
    "    \n",
    "\n",
    "    b = column.fillna('').str.extract(only_digits).applymap(_shy_convert_numeric).iloc[:, 0]\n",
    "    mask = b.notnull()\n",
    "    results[name].loc[mask, 'killed'] = b[mask]"
   ]
  },
  {
   "cell_type": "code",
   "execution_count": 177,
   "metadata": {},
   "outputs": [
    {
     "data": {
      "text/html": [
       "<div>\n",
       "<style scoped>\n",
       "    .dataframe tbody tr th:only-of-type {\n",
       "        vertical-align: middle;\n",
       "    }\n",
       "\n",
       "    .dataframe tbody tr th {\n",
       "        vertical-align: top;\n",
       "    }\n",
       "\n",
       "    .dataframe thead tr th {\n",
       "        text-align: left;\n",
       "    }\n",
       "</style>\n",
       "<table border=\"1\" class=\"dataframe\">\n",
       "  <thead>\n",
       "    <tr>\n",
       "      <th></th>\n",
       "      <th colspan=\"5\" halign=\"left\">0</th>\n",
       "    </tr>\n",
       "    <tr>\n",
       "      <th>match</th>\n",
       "      <th>0</th>\n",
       "      <th>1</th>\n",
       "      <th>2</th>\n",
       "      <th>3</th>\n",
       "      <th>4</th>\n",
       "    </tr>\n",
       "  </thead>\n",
       "  <tbody>\n",
       "    <tr>\n",
       "      <th>0</th>\n",
       "      <td>196</td>\n",
       "      <td>NaN</td>\n",
       "      <td>NaN</td>\n",
       "      <td>NaN</td>\n",
       "      <td>NaN</td>\n",
       "    </tr>\n",
       "    <tr>\n",
       "      <th>1</th>\n",
       "      <td>20</td>\n",
       "      <td>NaN</td>\n",
       "      <td>NaN</td>\n",
       "      <td>NaN</td>\n",
       "      <td>NaN</td>\n",
       "    </tr>\n",
       "    <tr>\n",
       "      <th>3</th>\n",
       "      <td>800</td>\n",
       "      <td>NaN</td>\n",
       "      <td>NaN</td>\n",
       "      <td>NaN</td>\n",
       "      <td>NaN</td>\n",
       "    </tr>\n",
       "    <tr>\n",
       "      <th>4</th>\n",
       "      <td>15</td>\n",
       "      <td>6</td>\n",
       "      <td>NaN</td>\n",
       "      <td>NaN</td>\n",
       "      <td>NaN</td>\n",
       "    </tr>\n",
       "    <tr>\n",
       "      <th>8</th>\n",
       "      <td>500</td>\n",
       "      <td>NaN</td>\n",
       "      <td>NaN</td>\n",
       "      <td>NaN</td>\n",
       "      <td>NaN</td>\n",
       "    </tr>\n",
       "  </tbody>\n",
       "</table>\n",
       "</div>"
      ],
      "text/plain": [
       "         0                    \n",
       "match    0    1    2    3    4\n",
       "0      196  NaN  NaN  NaN  NaN\n",
       "1       20  NaN  NaN  NaN  NaN\n",
       "3      800  NaN  NaN  NaN  NaN\n",
       "4       15    6  NaN  NaN  NaN\n",
       "8      500  NaN  NaN  NaN  NaN"
      ]
     },
     "execution_count": 177,
     "metadata": {},
     "output_type": "execute_result"
    }
   ],
   "source": [
    "pattern = '([\\d|\\,]+)(?:\\[\\d+\\])?\\+?\\s*(?:men|dead|killed|casualties|kia)'\n",
    "battles[f'Casualties and losses.axis'].str.extractall(pattern).unstack().head(5)"
   ]
  },
  {
   "cell_type": "code",
   "execution_count": 178,
   "metadata": {},
   "outputs": [
    {
     "data": {
      "text/plain": [
       "'647,300–768,374   Germany 300,000+ [8] [9] [10]   Italy 114,000 [11] –114,520 [12]   Romania 109,000 [11] –158,854 [12]   Hungary 105,000 [11] –143,000 [12] Hiwi  19,300–52,000 [13] \\n 900 aircraft destroyed 1,500 tanks destroyed (100 Romanian) 6,000 guns destroyed 744 aircraft; 1,666 tanks; 5,762 guns captured \\nSee  casualties section .'"
      ]
     },
     "execution_count": 178,
     "metadata": {},
     "output_type": "execute_result"
    }
   ],
   "source": [
    "battles['Casualties and losses.axis'][battles.name == 'Battle of Stalingrad'].iloc[0]"
   ]
  },
  {
   "cell_type": "code",
   "execution_count": 179,
   "metadata": {},
   "outputs": [],
   "source": [
    "# battles[battles.name == 'Battle of Stalingrad']"
   ]
  },
  {
   "cell_type": "code",
   "execution_count": 180,
   "metadata": {},
   "outputs": [
    {
     "data": {
      "text/html": [
       "<div>\n",
       "<style scoped>\n",
       "    .dataframe tbody tr th:only-of-type {\n",
       "        vertical-align: middle;\n",
       "    }\n",
       "\n",
       "    .dataframe tbody tr th {\n",
       "        vertical-align: top;\n",
       "    }\n",
       "\n",
       "    .dataframe thead th {\n",
       "        text-align: right;\n",
       "    }\n",
       "</style>\n",
       "<table border=\"1\" class=\"dataframe\">\n",
       "  <thead>\n",
       "    <tr style=\"text-align: right;\">\n",
       "      <th></th>\n",
       "      <th>killed</th>\n",
       "      <th>wounded</th>\n",
       "      <th>captured</th>\n",
       "      <th>tanks</th>\n",
       "      <th>airplane</th>\n",
       "      <th>guns</th>\n",
       "      <th>ships</th>\n",
       "      <th>submarines</th>\n",
       "    </tr>\n",
       "  </thead>\n",
       "  <tbody>\n",
       "    <tr>\n",
       "      <th>277</th>\n",
       "      <td>0.0</td>\n",
       "      <td>0</td>\n",
       "      <td>0</td>\n",
       "      <td>1500</td>\n",
       "      <td>744</td>\n",
       "      <td>5762</td>\n",
       "      <td>0</td>\n",
       "      <td>0</td>\n",
       "    </tr>\n",
       "  </tbody>\n",
       "</table>\n",
       "</div>"
      ],
      "text/plain": [
       "     killed  wounded  captured  tanks  airplane  guns  ships  submarines\n",
       "277     0.0        0         0   1500       744  5762      0           0"
      ]
     },
     "execution_count": 180,
     "metadata": {},
     "output_type": "execute_result"
    }
   ],
   "source": [
    "results['axis'][battles.name == 'Battle of Stalingrad']"
   ]
  },
  {
   "cell_type": "code",
   "execution_count": 181,
   "metadata": {},
   "outputs": [
    {
     "data": {
      "text/plain": [
       "'c. \\u2009200  killed or captured'"
      ]
     },
     "execution_count": 181,
     "metadata": {},
     "output_type": "execute_result"
    }
   ],
   "source": [
    "battles.loc[[27], 'Casualties and losses.axis'].iloc[0] #.str.extractall('([\\d|\\,]+)\\s[tank]')"
   ]
  },
  {
   "cell_type": "code",
   "execution_count": 182,
   "metadata": {},
   "outputs": [
    {
     "data": {
      "text/plain": [
       "killed        200.0\n",
       "wounded         0.0\n",
       "captured        0.0\n",
       "tanks           0.0\n",
       "airplane        0.0\n",
       "guns            0.0\n",
       "ships           0.0\n",
       "submarines      0.0\n",
       "Name: 27, dtype: float64"
      ]
     },
     "execution_count": 182,
     "metadata": {},
     "output_type": "execute_result"
    }
   ],
   "source": [
    "results['axis'].loc[27]"
   ]
  },
  {
   "cell_type": "code",
   "execution_count": 183,
   "metadata": {},
   "outputs": [
    {
     "data": {
      "text/html": [
       "<div>\n",
       "<style scoped>\n",
       "    .dataframe tbody tr th:only-of-type {\n",
       "        vertical-align: middle;\n",
       "    }\n",
       "\n",
       "    .dataframe tbody tr th {\n",
       "        vertical-align: top;\n",
       "    }\n",
       "\n",
       "    .dataframe thead th {\n",
       "        text-align: right;\n",
       "    }\n",
       "</style>\n",
       "<table border=\"1\" class=\"dataframe\">\n",
       "  <thead>\n",
       "    <tr style=\"text-align: right;\">\n",
       "      <th></th>\n",
       "      <th>killed</th>\n",
       "      <th>wounded</th>\n",
       "      <th>captured</th>\n",
       "      <th>tanks</th>\n",
       "      <th>airplane</th>\n",
       "      <th>guns</th>\n",
       "      <th>ships</th>\n",
       "      <th>submarines</th>\n",
       "    </tr>\n",
       "  </thead>\n",
       "  <tbody>\n",
       "    <tr>\n",
       "      <th>285</th>\n",
       "      <td>60000.0</td>\n",
       "      <td>0</td>\n",
       "      <td>4500</td>\n",
       "      <td>0</td>\n",
       "      <td>0</td>\n",
       "      <td>0</td>\n",
       "      <td>0</td>\n",
       "      <td>0</td>\n",
       "    </tr>\n",
       "  </tbody>\n",
       "</table>\n",
       "</div>"
      ],
      "text/plain": [
       "      killed  wounded  captured  tanks  airplane  guns  ships  submarines\n",
       "285  60000.0        0      4500      0         0     0      0           0"
      ]
     },
     "execution_count": 183,
     "metadata": {},
     "output_type": "execute_result"
    }
   ],
   "source": [
    "results['axis'][battles.name == 'Battle for Velikiye Luki (1943)']"
   ]
  },
  {
   "cell_type": "code",
   "execution_count": 184,
   "metadata": {},
   "outputs": [
    {
     "data": {
      "text/plain": [
       "'Soviet estimate: ~60.000 killed, missing or wounded, 4.500 captured [3]'"
      ]
     },
     "execution_count": 184,
     "metadata": {},
     "output_type": "execute_result"
    }
   ],
   "source": [
    "battles.loc[battles.name=='Battle for Velikiye Luki (1943)', 'Casualties and losses.axis'].iloc[0]"
   ]
  },
  {
   "cell_type": "code",
   "execution_count": null,
   "metadata": {},
   "outputs": [],
   "source": []
  },
  {
   "cell_type": "markdown",
   "metadata": {},
   "source": [
    "# Combine"
   ]
  },
  {
   "cell_type": "code",
   "execution_count": 185,
   "metadata": {},
   "outputs": [],
   "source": [
    "results['old_metrics'] = battles\n",
    "new_dataset = pd.concat(results, axis=1)"
   ]
  },
  {
   "cell_type": "markdown",
   "metadata": {},
   "source": [
    "# Quality Assurance"
   ]
  },
  {
   "cell_type": "code",
   "execution_count": 186,
   "metadata": {},
   "outputs": [],
   "source": [
    "idx = pd.IndexSlice"
   ]
  },
  {
   "cell_type": "code",
   "execution_count": 187,
   "metadata": {},
   "outputs": [],
   "source": [
    "assumptions = {\n",
    "    'killed': [0, 2_000_000],\n",
    "    'wounded': [0, 1_000_000],\n",
    "    'tanks': [0, 5_000],\n",
    "    'airplane': [0, 3_000],\n",
    "    'guns': [0, 30_000],\n",
    "    ('start', 'end'): [pd.to_datetime(el) for el in ('1939-01-01', '1945-12-31')]\n",
    "}"
   ]
  },
  {
   "cell_type": "code",
   "execution_count": 188,
   "metadata": {},
   "outputs": [],
   "source": [
    "def _check_assumptions(data, assumptions):\n",
    "    for k, (min_, max_) in assumptions.items():\n",
    "        df = data.loc[:, idx[:, k]]\n",
    "        for i in range(df.shape[1]):\n",
    "            assert df.iloc[:, i].between(min_, max_).all(), (df.iloc[:, i].name, df.iloc[:, i].describe())"
   ]
  },
  {
   "cell_type": "code",
   "execution_count": 189,
   "metadata": {},
   "outputs": [
    {
     "data": {
      "text/html": [
       "<div>\n",
       "<style scoped>\n",
       "    .dataframe tbody tr th:only-of-type {\n",
       "        vertical-align: middle;\n",
       "    }\n",
       "\n",
       "    .dataframe tbody tr th {\n",
       "        vertical-align: top;\n",
       "    }\n",
       "\n",
       "    .dataframe thead tr th {\n",
       "        text-align: left;\n",
       "    }\n",
       "</style>\n",
       "<table border=\"1\" class=\"dataframe\">\n",
       "  <thead>\n",
       "    <tr>\n",
       "      <th></th>\n",
       "      <th colspan=\"2\" halign=\"left\">old_metrics</th>\n",
       "    </tr>\n",
       "    <tr>\n",
       "      <th></th>\n",
       "      <th>name</th>\n",
       "      <th>url</th>\n",
       "    </tr>\n",
       "  </thead>\n",
       "  <tbody>\n",
       "    <tr>\n",
       "      <th>233</th>\n",
       "      <td>Battle of Białystok-Minsk</td>\n",
       "      <td>https://en.wikipedia.org/wiki/Battle_of_Bia%C5...</td>\n",
       "    </tr>\n",
       "    <tr>\n",
       "      <th>235</th>\n",
       "      <td>Baltic Operation</td>\n",
       "      <td>https://en.wikipedia.org/wiki/Baltic_Operation</td>\n",
       "    </tr>\n",
       "    <tr>\n",
       "      <th>242</th>\n",
       "      <td>Battle of Smolensk (1941)</td>\n",
       "      <td>https://en.wikipedia.org/wiki/Battle_of_Smolen...</td>\n",
       "    </tr>\n",
       "    <tr>\n",
       "      <th>270</th>\n",
       "      <td>Second Battle of Kharkov</td>\n",
       "      <td>https://en.wikipedia.org/wiki/Second_Battle_of...</td>\n",
       "    </tr>\n",
       "    <tr>\n",
       "      <th>277</th>\n",
       "      <td>Battle of Stalingrad</td>\n",
       "      <td>https://en.wikipedia.org/wiki/Battle_of_Stalin...</td>\n",
       "    </tr>\n",
       "    <tr>\n",
       "      <th>280</th>\n",
       "      <td>Operation Mars</td>\n",
       "      <td>https://en.wikipedia.org/wiki/Operation_Mars</td>\n",
       "    </tr>\n",
       "    <tr>\n",
       "      <th>292</th>\n",
       "      <td>Operation Kutuzov</td>\n",
       "      <td>https://en.wikipedia.org/wiki/Operation_Kutuzov</td>\n",
       "    </tr>\n",
       "    <tr>\n",
       "      <th>337</th>\n",
       "      <td>Lvov–Sandomierz Offensive</td>\n",
       "      <td>https://en.wikipedia.org/wiki/Lvov%E2%80%93San...</td>\n",
       "    </tr>\n",
       "    <tr>\n",
       "      <th>367</th>\n",
       "      <td>Heiligenbeil Pocket</td>\n",
       "      <td>https://en.wikipedia.org/wiki/Heiligenbeil_Pocket</td>\n",
       "    </tr>\n",
       "  </tbody>\n",
       "</table>\n",
       "</div>"
      ],
      "text/plain": [
       "                   old_metrics  \\\n",
       "                          name   \n",
       "233  Battle of Białystok-Minsk   \n",
       "235           Baltic Operation   \n",
       "242  Battle of Smolensk (1941)   \n",
       "270   Second Battle of Kharkov   \n",
       "277       Battle of Stalingrad   \n",
       "280             Operation Mars   \n",
       "292          Operation Kutuzov   \n",
       "337  Lvov–Sandomierz Offensive   \n",
       "367        Heiligenbeil Pocket   \n",
       "\n",
       "                                                        \n",
       "                                                   url  \n",
       "233  https://en.wikipedia.org/wiki/Battle_of_Bia%C5...  \n",
       "235     https://en.wikipedia.org/wiki/Baltic_Operation  \n",
       "242  https://en.wikipedia.org/wiki/Battle_of_Smolen...  \n",
       "270  https://en.wikipedia.org/wiki/Second_Battle_of...  \n",
       "277  https://en.wikipedia.org/wiki/Battle_of_Stalin...  \n",
       "280       https://en.wikipedia.org/wiki/Operation_Mars  \n",
       "292    https://en.wikipedia.org/wiki/Operation_Kutuzov  \n",
       "337  https://en.wikipedia.org/wiki/Lvov%E2%80%93San...  \n",
       "367  https://en.wikipedia.org/wiki/Heiligenbeil_Pocket  "
      ]
     },
     "execution_count": 189,
     "metadata": {},
     "output_type": "execute_result"
    }
   ],
   "source": [
    "d = new_dataset.loc[new_dataset.loc[:, idx['allies', 'tanks']] > 1_000 , idx['old_metrics', ['name', 'url']]] \n",
    "d"
   ]
  },
  {
   "cell_type": "code",
   "execution_count": 190,
   "metadata": {},
   "outputs": [
    {
     "data": {
      "text/plain": [
       "'https://en.wikipedia.org/wiki/Battle_of_Bia%C5%82ystok-Minsk'"
      ]
     },
     "execution_count": 190,
     "metadata": {},
     "output_type": "execute_result"
    }
   ],
   "source": [
    "d.iloc[0, 1]"
   ]
  },
  {
   "cell_type": "code",
   "execution_count": 191,
   "metadata": {},
   "outputs": [
    {
     "ename": "AssertionError",
     "evalue": "(('old_metrics', 'start'), count                     476\nunique                     85\ntop       1944-07-01 00:00:00\nfreq                       23\nfirst     1937-09-01 00:00:00\nlast      1945-09-01 00:00:00\nName: (old_metrics, start), dtype: object)",
     "output_type": "error",
     "traceback": [
      "\u001b[0;31m---------------------------------------------------------------------------\u001b[0m",
      "\u001b[0;31mAssertionError\u001b[0m                            Traceback (most recent call last)",
      "\u001b[0;32m<ipython-input-191-e909d445b593>\u001b[0m in \u001b[0;36m<module>\u001b[0;34m\u001b[0m\n\u001b[0;32m----> 1\u001b[0;31m \u001b[0m_check_assumptions\u001b[0m\u001b[0;34m(\u001b[0m\u001b[0mnew_dataset\u001b[0m\u001b[0;34m,\u001b[0m \u001b[0massumptions\u001b[0m\u001b[0;34m)\u001b[0m\u001b[0;34m\u001b[0m\u001b[0;34m\u001b[0m\u001b[0m\n\u001b[0m",
      "\u001b[0;32m<ipython-input-188-79555a845285>\u001b[0m in \u001b[0;36m_check_assumptions\u001b[0;34m(data, assumptions)\u001b[0m\n\u001b[1;32m      3\u001b[0m         \u001b[0mdf\u001b[0m \u001b[0;34m=\u001b[0m \u001b[0mdata\u001b[0m\u001b[0;34m.\u001b[0m\u001b[0mloc\u001b[0m\u001b[0;34m[\u001b[0m\u001b[0;34m:\u001b[0m\u001b[0;34m,\u001b[0m \u001b[0midx\u001b[0m\u001b[0;34m[\u001b[0m\u001b[0;34m:\u001b[0m\u001b[0;34m,\u001b[0m \u001b[0mk\u001b[0m\u001b[0;34m]\u001b[0m\u001b[0;34m]\u001b[0m\u001b[0;34m\u001b[0m\u001b[0;34m\u001b[0m\u001b[0m\n\u001b[1;32m      4\u001b[0m         \u001b[0;32mfor\u001b[0m \u001b[0mi\u001b[0m \u001b[0;32min\u001b[0m \u001b[0mrange\u001b[0m\u001b[0;34m(\u001b[0m\u001b[0mdf\u001b[0m\u001b[0;34m.\u001b[0m\u001b[0mshape\u001b[0m\u001b[0;34m[\u001b[0m\u001b[0;36m1\u001b[0m\u001b[0;34m]\u001b[0m\u001b[0;34m)\u001b[0m\u001b[0;34m:\u001b[0m\u001b[0;34m\u001b[0m\u001b[0;34m\u001b[0m\u001b[0m\n\u001b[0;32m----> 5\u001b[0;31m             \u001b[0;32massert\u001b[0m \u001b[0mdf\u001b[0m\u001b[0;34m.\u001b[0m\u001b[0miloc\u001b[0m\u001b[0;34m[\u001b[0m\u001b[0;34m:\u001b[0m\u001b[0;34m,\u001b[0m \u001b[0mi\u001b[0m\u001b[0;34m]\u001b[0m\u001b[0;34m.\u001b[0m\u001b[0mbetween\u001b[0m\u001b[0;34m(\u001b[0m\u001b[0mmin_\u001b[0m\u001b[0;34m,\u001b[0m \u001b[0mmax_\u001b[0m\u001b[0;34m)\u001b[0m\u001b[0;34m.\u001b[0m\u001b[0mall\u001b[0m\u001b[0;34m(\u001b[0m\u001b[0;34m)\u001b[0m\u001b[0;34m,\u001b[0m \u001b[0;34m(\u001b[0m\u001b[0mdf\u001b[0m\u001b[0;34m.\u001b[0m\u001b[0miloc\u001b[0m\u001b[0;34m[\u001b[0m\u001b[0;34m:\u001b[0m\u001b[0;34m,\u001b[0m \u001b[0mi\u001b[0m\u001b[0;34m]\u001b[0m\u001b[0;34m.\u001b[0m\u001b[0mname\u001b[0m\u001b[0;34m,\u001b[0m \u001b[0mdf\u001b[0m\u001b[0;34m.\u001b[0m\u001b[0miloc\u001b[0m\u001b[0;34m[\u001b[0m\u001b[0;34m:\u001b[0m\u001b[0;34m,\u001b[0m \u001b[0mi\u001b[0m\u001b[0;34m]\u001b[0m\u001b[0;34m.\u001b[0m\u001b[0mdescribe\u001b[0m\u001b[0;34m(\u001b[0m\u001b[0;34m)\u001b[0m\u001b[0;34m)\u001b[0m\u001b[0;34m\u001b[0m\u001b[0;34m\u001b[0m\u001b[0m\n\u001b[0m",
      "\u001b[0;31mAssertionError\u001b[0m: (('old_metrics', 'start'), count                     476\nunique                     85\ntop       1944-07-01 00:00:00\nfreq                       23\nfirst     1937-09-01 00:00:00\nlast      1945-09-01 00:00:00\nName: (old_metrics, start), dtype: object)"
     ]
    }
   ],
   "source": [
    "_check_assumptions(new_dataset, assumptions)"
   ]
  },
  {
   "cell_type": "code",
   "execution_count": 192,
   "metadata": {},
   "outputs": [
    {
     "data": {
      "text/html": [
       "<div>\n",
       "<style scoped>\n",
       "    .dataframe tbody tr th:only-of-type {\n",
       "        vertical-align: middle;\n",
       "    }\n",
       "\n",
       "    .dataframe tbody tr th {\n",
       "        vertical-align: top;\n",
       "    }\n",
       "\n",
       "    .dataframe thead tr th {\n",
       "        text-align: left;\n",
       "    }\n",
       "</style>\n",
       "<table border=\"1\" class=\"dataframe\">\n",
       "  <thead>\n",
       "    <tr>\n",
       "      <th></th>\n",
       "      <th>old_metrics</th>\n",
       "    </tr>\n",
       "    <tr>\n",
       "      <th></th>\n",
       "      <th>start</th>\n",
       "    </tr>\n",
       "  </thead>\n",
       "  <tbody>\n",
       "    <tr>\n",
       "      <th>75</th>\n",
       "      <td>NaT</td>\n",
       "    </tr>\n",
       "    <tr>\n",
       "      <th>136</th>\n",
       "      <td>NaT</td>\n",
       "    </tr>\n",
       "    <tr>\n",
       "      <th>156</th>\n",
       "      <td>1937-10-01</td>\n",
       "    </tr>\n",
       "    <tr>\n",
       "      <th>158</th>\n",
       "      <td>1937-12-01</td>\n",
       "    </tr>\n",
       "    <tr>\n",
       "      <th>159</th>\n",
       "      <td>1937-11-01</td>\n",
       "    </tr>\n",
       "    <tr>\n",
       "      <th>160</th>\n",
       "      <td>1937-09-01</td>\n",
       "    </tr>\n",
       "    <tr>\n",
       "      <th>161</th>\n",
       "      <td>1937-09-01</td>\n",
       "    </tr>\n",
       "    <tr>\n",
       "      <th>163</th>\n",
       "      <td>1937-12-01</td>\n",
       "    </tr>\n",
       "    <tr>\n",
       "      <th>164</th>\n",
       "      <td>1938-03-01</td>\n",
       "    </tr>\n",
       "    <tr>\n",
       "      <th>168</th>\n",
       "      <td>1938-05-01</td>\n",
       "    </tr>\n",
       "    <tr>\n",
       "      <th>169</th>\n",
       "      <td>1938-08-01</td>\n",
       "    </tr>\n",
       "    <tr>\n",
       "      <th>171</th>\n",
       "      <td>1938-10-01</td>\n",
       "    </tr>\n",
       "    <tr>\n",
       "      <th>179</th>\n",
       "      <td>NaT</td>\n",
       "    </tr>\n",
       "    <tr>\n",
       "      <th>340</th>\n",
       "      <td>NaT</td>\n",
       "    </tr>\n",
       "    <tr>\n",
       "      <th>407</th>\n",
       "      <td>NaT</td>\n",
       "    </tr>\n",
       "    <tr>\n",
       "      <th>558</th>\n",
       "      <td>NaT</td>\n",
       "    </tr>\n",
       "    <tr>\n",
       "      <th>560</th>\n",
       "      <td>NaT</td>\n",
       "    </tr>\n",
       "  </tbody>\n",
       "</table>\n",
       "</div>"
      ],
      "text/plain": [
       "    old_metrics\n",
       "          start\n",
       "75          NaT\n",
       "136         NaT\n",
       "156  1937-10-01\n",
       "158  1937-12-01\n",
       "159  1937-11-01\n",
       "160  1937-09-01\n",
       "161  1937-09-01\n",
       "163  1937-12-01\n",
       "164  1938-03-01\n",
       "168  1938-05-01\n",
       "169  1938-08-01\n",
       "171  1938-10-01\n",
       "179         NaT\n",
       "340         NaT\n",
       "407         NaT\n",
       "558         NaT\n",
       "560         NaT"
      ]
     },
     "execution_count": 192,
     "metadata": {},
     "output_type": "execute_result"
    }
   ],
   "source": [
    "new_dataset.loc[~new_dataset.loc[:, idx['old_metrics', 'start']].between(*[pd.to_datetime(el) for el in ('1939-01-01', '1945-12-31')]), idx['old_metrics', ['start']]]"
   ]
  },
  {
   "cell_type": "code",
   "execution_count": 193,
   "metadata": {},
   "outputs": [
    {
     "data": {
      "text/html": [
       "<div>\n",
       "<style scoped>\n",
       "    .dataframe tbody tr th:only-of-type {\n",
       "        vertical-align: middle;\n",
       "    }\n",
       "\n",
       "    .dataframe tbody tr th {\n",
       "        vertical-align: top;\n",
       "    }\n",
       "\n",
       "    .dataframe thead tr th {\n",
       "        text-align: left;\n",
       "    }\n",
       "</style>\n",
       "<table border=\"1\" class=\"dataframe\">\n",
       "  <thead>\n",
       "    <tr>\n",
       "      <th></th>\n",
       "      <th colspan=\"2\" halign=\"left\">old_metrics</th>\n",
       "    </tr>\n",
       "    <tr>\n",
       "      <th></th>\n",
       "      <th>name</th>\n",
       "      <th>url</th>\n",
       "    </tr>\n",
       "  </thead>\n",
       "  <tbody>\n",
       "    <tr>\n",
       "      <th>75</th>\n",
       "      <td>Battle of Port Cros</td>\n",
       "      <td>https://en.wikipedia.org/wiki/Battle_of_Port_Cros</td>\n",
       "    </tr>\n",
       "    <tr>\n",
       "      <th>136</th>\n",
       "      <td>Battle of Torpedo Alley</td>\n",
       "      <td>https://en.wikipedia.org/wiki/Torpedo_Alley_(N...</td>\n",
       "    </tr>\n",
       "    <tr>\n",
       "      <th>179</th>\n",
       "      <td>Battle of West Suiyuan</td>\n",
       "      <td>https://en.wikipedia.org/wiki/Battle_of_West_S...</td>\n",
       "    </tr>\n",
       "    <tr>\n",
       "      <th>340</th>\n",
       "      <td>Battle of Studzianki</td>\n",
       "      <td>https://en.wikipedia.org/wiki/Battle_of_Studzi...</td>\n",
       "    </tr>\n",
       "    <tr>\n",
       "      <th>407</th>\n",
       "      <td>Bombing of Bangkok</td>\n",
       "      <td>https://en.wikipedia.org/wiki/Bombing_of_Bangk...</td>\n",
       "    </tr>\n",
       "    <tr>\n",
       "      <th>558</th>\n",
       "      <td>Battle of Savo Island</td>\n",
       "      <td>https://en.wikipedia.org/wiki/Battle_of_Savo_I...</td>\n",
       "    </tr>\n",
       "    <tr>\n",
       "      <th>560</th>\n",
       "      <td>Battle of the Tenaru</td>\n",
       "      <td>https://en.wikipedia.org/wiki/Battle_of_the_Te...</td>\n",
       "    </tr>\n",
       "  </tbody>\n",
       "</table>\n",
       "</div>"
      ],
      "text/plain": [
       "                 old_metrics  \\\n",
       "                        name   \n",
       "75       Battle of Port Cros   \n",
       "136  Battle of Torpedo Alley   \n",
       "179   Battle of West Suiyuan   \n",
       "340     Battle of Studzianki   \n",
       "407       Bombing of Bangkok   \n",
       "558    Battle of Savo Island   \n",
       "560     Battle of the Tenaru   \n",
       "\n",
       "                                                        \n",
       "                                                   url  \n",
       "75   https://en.wikipedia.org/wiki/Battle_of_Port_Cros  \n",
       "136  https://en.wikipedia.org/wiki/Torpedo_Alley_(N...  \n",
       "179  https://en.wikipedia.org/wiki/Battle_of_West_S...  \n",
       "340  https://en.wikipedia.org/wiki/Battle_of_Studzi...  \n",
       "407  https://en.wikipedia.org/wiki/Bombing_of_Bangk...  \n",
       "558  https://en.wikipedia.org/wiki/Battle_of_Savo_I...  \n",
       "560  https://en.wikipedia.org/wiki/Battle_of_the_Te...  "
      ]
     },
     "execution_count": 193,
     "metadata": {},
     "output_type": "execute_result"
    }
   ],
   "source": [
    "new_dataset.loc[new_dataset.loc[:, idx['old_metrics', 'start']].isnull(), idx['old_metrics', ['name','url']]]"
   ]
  },
  {
   "cell_type": "code",
   "execution_count": 194,
   "metadata": {},
   "outputs": [],
   "source": [
    "new_dataset.loc[135, idx['old_metrics', 'start']] = pd.to_datetime('1944-08-09')\n",
    "new_dataset.loc[135, idx['old_metrics', 'end']] = pd.to_datetime('1944-08-16') # August 9–16, 1944"
   ]
  },
  {
   "cell_type": "code",
   "execution_count": 195,
   "metadata": {},
   "outputs": [
    {
     "ename": "AssertionError",
     "evalue": "(('allies', 'killed'), count       483.000000\nmean      11428.407867\nstd       49417.502429\nmin           0.000000\n25%           0.000000\n50%          59.000000\n75%        1268.000000\nmax      616304.000000\nName: (allies, killed), dtype: float64)",
     "output_type": "error",
     "traceback": [
      "\u001b[0;31m---------------------------------------------------------------------------\u001b[0m",
      "\u001b[0;31mAssertionError\u001b[0m                            Traceback (most recent call last)",
      "\u001b[0;32m<ipython-input-195-e909d445b593>\u001b[0m in \u001b[0;36m<module>\u001b[0;34m\u001b[0m\n\u001b[0;32m----> 1\u001b[0;31m \u001b[0m_check_assumptions\u001b[0m\u001b[0;34m(\u001b[0m\u001b[0mnew_dataset\u001b[0m\u001b[0;34m,\u001b[0m \u001b[0massumptions\u001b[0m\u001b[0;34m)\u001b[0m\u001b[0;34m\u001b[0m\u001b[0;34m\u001b[0m\u001b[0m\n\u001b[0m",
      "\u001b[0;32m<ipython-input-188-79555a845285>\u001b[0m in \u001b[0;36m_check_assumptions\u001b[0;34m(data, assumptions)\u001b[0m\n\u001b[1;32m      3\u001b[0m         \u001b[0mdf\u001b[0m \u001b[0;34m=\u001b[0m \u001b[0mdata\u001b[0m\u001b[0;34m.\u001b[0m\u001b[0mloc\u001b[0m\u001b[0;34m[\u001b[0m\u001b[0;34m:\u001b[0m\u001b[0;34m,\u001b[0m \u001b[0midx\u001b[0m\u001b[0;34m[\u001b[0m\u001b[0;34m:\u001b[0m\u001b[0;34m,\u001b[0m \u001b[0mk\u001b[0m\u001b[0;34m]\u001b[0m\u001b[0;34m]\u001b[0m\u001b[0;34m\u001b[0m\u001b[0;34m\u001b[0m\u001b[0m\n\u001b[1;32m      4\u001b[0m         \u001b[0;32mfor\u001b[0m \u001b[0mi\u001b[0m \u001b[0;32min\u001b[0m \u001b[0mrange\u001b[0m\u001b[0;34m(\u001b[0m\u001b[0mdf\u001b[0m\u001b[0;34m.\u001b[0m\u001b[0mshape\u001b[0m\u001b[0;34m[\u001b[0m\u001b[0;36m1\u001b[0m\u001b[0;34m]\u001b[0m\u001b[0;34m)\u001b[0m\u001b[0;34m:\u001b[0m\u001b[0;34m\u001b[0m\u001b[0;34m\u001b[0m\u001b[0m\n\u001b[0;32m----> 5\u001b[0;31m             \u001b[0;32massert\u001b[0m \u001b[0mdf\u001b[0m\u001b[0;34m.\u001b[0m\u001b[0miloc\u001b[0m\u001b[0;34m[\u001b[0m\u001b[0;34m:\u001b[0m\u001b[0;34m,\u001b[0m \u001b[0mi\u001b[0m\u001b[0;34m]\u001b[0m\u001b[0;34m.\u001b[0m\u001b[0mbetween\u001b[0m\u001b[0;34m(\u001b[0m\u001b[0mmin_\u001b[0m\u001b[0;34m,\u001b[0m \u001b[0mmax_\u001b[0m\u001b[0;34m)\u001b[0m\u001b[0;34m.\u001b[0m\u001b[0mall\u001b[0m\u001b[0;34m(\u001b[0m\u001b[0;34m)\u001b[0m\u001b[0;34m,\u001b[0m \u001b[0;34m(\u001b[0m\u001b[0mdf\u001b[0m\u001b[0;34m.\u001b[0m\u001b[0miloc\u001b[0m\u001b[0;34m[\u001b[0m\u001b[0;34m:\u001b[0m\u001b[0;34m,\u001b[0m \u001b[0mi\u001b[0m\u001b[0;34m]\u001b[0m\u001b[0;34m.\u001b[0m\u001b[0mname\u001b[0m\u001b[0;34m,\u001b[0m \u001b[0mdf\u001b[0m\u001b[0;34m.\u001b[0m\u001b[0miloc\u001b[0m\u001b[0;34m[\u001b[0m\u001b[0;34m:\u001b[0m\u001b[0;34m,\u001b[0m \u001b[0mi\u001b[0m\u001b[0;34m]\u001b[0m\u001b[0;34m.\u001b[0m\u001b[0mdescribe\u001b[0m\u001b[0;34m(\u001b[0m\u001b[0;34m)\u001b[0m\u001b[0;34m)\u001b[0m\u001b[0;34m\u001b[0m\u001b[0;34m\u001b[0m\u001b[0m\n\u001b[0m",
      "\u001b[0;31mAssertionError\u001b[0m: (('allies', 'killed'), count       483.000000\nmean      11428.407867\nstd       49417.502429\nmin           0.000000\n25%           0.000000\n50%          59.000000\n75%        1268.000000\nmax      616304.000000\nName: (allies, killed), dtype: float64)"
     ]
    }
   ],
   "source": [
    "_check_assumptions(new_dataset, assumptions)"
   ]
  },
  {
   "cell_type": "markdown",
   "metadata": {},
   "source": [
    "# Store"
   ]
  },
  {
   "cell_type": "code",
   "execution_count": 196,
   "metadata": {},
   "outputs": [],
   "source": [
    "new_dataset.to_csv('./data/all_battles.csv', index=None)"
   ]
  },
  {
   "cell_type": "code",
   "execution_count": null,
   "metadata": {},
   "outputs": [],
   "source": []
  }
 ],
 "metadata": {
  "kernelspec": {
   "display_name": "Python 3",
   "language": "python",
   "name": "python3"
  },
  "language_info": {
   "codemirror_mode": {
    "name": "ipython",
    "version": 3
   },
   "file_extension": ".py",
   "mimetype": "text/x-python",
   "name": "python",
   "nbconvert_exporter": "python",
   "pygments_lexer": "ipython3",
   "version": "3.7.3"
  }
 },
 "nbformat": 4,
 "nbformat_minor": 2
}
