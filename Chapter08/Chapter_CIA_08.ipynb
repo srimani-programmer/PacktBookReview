{
 "cells": [
  {
   "cell_type": "code",
   "execution_count": 16,
   "metadata": {},
   "outputs": [],
   "source": [
    "%matplotlib inline\n",
    "import pylab as plt\n",
    "plt.style.use('fivethirtyeight')"
   ]
  },
  {
   "cell_type": "code",
   "execution_count": 17,
   "metadata": {},
   "outputs": [],
   "source": [
    "from animals import Island, Rabbit\n",
    "import random"
   ]
  },
  {
   "cell_type": "markdown",
   "metadata": {},
   "source": [
    "### Testing"
   ]
  },
  {
   "cell_type": "code",
   "execution_count": 18,
   "metadata": {},
   "outputs": [],
   "source": [
    "R = Rabbit(10)"
   ]
  },
  {
   "cell_type": "code",
   "execution_count": 19,
   "metadata": {},
   "outputs": [
    {
     "data": {
      "text/plain": [
       "0"
      ]
     },
     "execution_count": 19,
     "metadata": {},
     "output_type": "execute_result"
    }
   ],
   "source": [
    "R.age"
   ]
  },
  {
   "cell_type": "code",
   "execution_count": 20,
   "metadata": {},
   "outputs": [
    {
     "data": {
      "text/plain": [
       "1"
      ]
     },
     "execution_count": 20,
     "metadata": {},
     "output_type": "execute_result"
    }
   ],
   "source": [
    "R._age()\n",
    "R.age"
   ]
  },
  {
   "cell_type": "code",
   "execution_count": 21,
   "metadata": {},
   "outputs": [],
   "source": [
    "random.seed(123)\n",
    "R2 = R.breed()"
   ]
  },
  {
   "cell_type": "code",
   "execution_count": 22,
   "metadata": {},
   "outputs": [
    {
     "data": {
      "text/plain": [
       "9"
      ]
     },
     "execution_count": 22,
     "metadata": {},
     "output_type": "execute_result"
    }
   ],
   "source": [
    "R2.survival_skill"
   ]
  },
  {
   "cell_type": "code",
   "execution_count": 23,
   "metadata": {},
   "outputs": [],
   "source": [
    "I = Island(init_rabbits=10, max_pop=100)"
   ]
  },
  {
   "cell_type": "code",
   "execution_count": 24,
   "metadata": {},
   "outputs": [
    {
     "data": {
      "text/plain": [
       "[<animals.Rabbit at 0x11ae9a8b8>,\n",
       " <animals.Rabbit at 0x11ae9aa98>,\n",
       " <animals.Rabbit at 0x11ae9ab10>,\n",
       " <animals.Rabbit at 0x11ae9a318>,\n",
       " <animals.Rabbit at 0x11ae9a390>,\n",
       " <animals.Rabbit at 0x11ae9a228>,\n",
       " <animals.Rabbit at 0x11ae9a480>,\n",
       " <animals.Rabbit at 0x11ae9a2a0>,\n",
       " <animals.Rabbit at 0x11ae9a5e8>,\n",
       " <animals.Rabbit at 0x11ae9a408>]"
      ]
     },
     "execution_count": 24,
     "metadata": {},
     "output_type": "execute_result"
    }
   ],
   "source": [
    "I.rabbits"
   ]
  },
  {
   "cell_type": "code",
   "execution_count": 25,
   "metadata": {},
   "outputs": [],
   "source": [
    "stats = I.compute_epoches(15)"
   ]
  },
  {
   "cell_type": "code",
   "execution_count": 26,
   "metadata": {},
   "outputs": [
    {
     "data": {
      "text/plain": [
       "{'pop': 54,\n",
       " 'mean_age': 1.7037037037037037,\n",
       " 'mean_skill': 67.57407407407408,\n",
       " '75_skill': 0.4444444444444444}"
      ]
     },
     "execution_count": 26,
     "metadata": {},
     "output_type": "execute_result"
    }
   ],
   "source": [
    "stats[14]"
   ]
  },
  {
   "cell_type": "markdown",
   "metadata": {},
   "source": [
    "### Thousand Islands"
   ]
  },
  {
   "cell_type": "code",
   "execution_count": 27,
   "metadata": {},
   "outputs": [],
   "source": [
    "params = {'init_rabbits':10, 'max_pop':40}\n",
    "years, N_islands = 15, 1000\n",
    "\n",
    "islands = [Island(**params) for _ in range(N_islands)]\n",
    "stats = [ island.compute_epoches(years) for island in islands]"
   ]
  },
  {
   "cell_type": "markdown",
   "metadata": {},
   "source": [
    "### Harsh Islands"
   ]
  },
  {
   "cell_type": "code",
   "execution_count": 28,
   "metadata": {},
   "outputs": [],
   "source": [
    "from animals import HarshIsland"
   ]
  },
  {
   "cell_type": "code",
   "execution_count": 29,
   "metadata": {},
   "outputs": [],
   "source": [
    "params = {'init_rabbits':10, 'max_pop':40, 'env_range':[10,90]}\n",
    "years, N_islands = 15, 1000\n",
    "\n",
    "h_islands = [HarshIsland(**params) for _ in range(N_islands)]\n",
    "h_stats = [ island.compute_epoches(years) for island in h_islands]"
   ]
  },
  {
   "cell_type": "markdown",
   "metadata": {},
   "source": [
    "### Visualisation"
   ]
  },
  {
   "cell_type": "code",
   "execution_count": null,
   "metadata": {},
   "outputs": [],
   "source": [
    "fig, axes = plt.subplots(4,2, figsize=(10,10), sharex=True)\n",
    "\n",
    "for i, title in enumerate(('Population', 'Average age', 'Average Survival Skill', '% of rabbits with SSK > 75')):\n",
    "    axes[i][0].set_ylabel(title)\n",
    "\n",
    "for i, (k, v) in enumerate({\"Heaven Islands\":stats, \n",
    "                            'Harsh Islands':h_stats}.items()):\n",
    "    axes[0][i].set_title(k)\n",
    "    \n",
    "    for s in v: # for each island\n",
    "        years = list(s.keys())\n",
    "        \n",
    "        axes[0][i].plot(years, [v['pop'] for v in s.values()], c='red', alpha=.005)\n",
    "        axes[1][i].plot(years, [v.get('mean_age', None) for v in s.values()], c='blue', alpha=.005)\n",
    "        axes[2][i].plot(years, [v.get('mean_skill', None) for v in s.values()], c='green', alpha=.005)\n",
    "        axes[3][i].plot(years, [v.get('75_skill', None) for v in s.values()], c='purple', alpha=.005)"
   ]
  },
  {
   "cell_type": "code",
   "execution_count": null,
   "metadata": {},
   "outputs": [],
   "source": []
  }
 ],
 "metadata": {
  "kernelspec": {
   "display_name": "Python 3",
   "language": "python",
   "name": "python3"
  },
  "language_info": {
   "codemirror_mode": {
    "name": "ipython",
    "version": 3
   },
   "file_extension": ".py",
   "mimetype": "text/x-python",
   "name": "python",
   "nbconvert_exporter": "python",
   "pygments_lexer": "ipython3",
   "version": "3.7.3"
  }
 },
 "nbformat": 4,
 "nbformat_minor": 2
}
